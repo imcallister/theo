{
 "cells": [
  {
   "attachments": {},
   "cell_type": "markdown",
   "id": "d6dd2329-0667-450b-acfc-202720fdd090",
   "metadata": {},
   "source": [
    "## Printing stuff"
   ]
  },
  {
   "attachments": {},
   "cell_type": "markdown",
   "id": "62572eeb-22a8-4b3b-9922-53386e2d440f",
   "metadata": {},
   "source": [
    "print exactly what is in a string"
   ]
  },
  {
   "cell_type": "code",
   "execution_count": 2,
   "id": "1de39d69-3446-42ad-931f-c53a63ddd13f",
   "metadata": {},
   "outputs": [
    {
     "name": "stdout",
     "output_type": "stream",
     "text": [
      "Print exactly this\n"
     ]
    }
   ],
   "source": [
    "print('Print exactly this')"
   ]
  },
  {
   "attachments": {},
   "cell_type": "markdown",
   "id": "cbf5fec6-418d-449d-bbcd-55cd0d024204",
   "metadata": {},
   "source": [
    "print with variables. \n",
    "\n",
    "syntax uses an 'f' to show that python needs to insert a variable and curly braces *{}* for where the variable goes"
   ]
  },
  {
   "cell_type": "code",
   "execution_count": 3,
   "id": "a338dab1-eca3-4acc-a883-738497f5dd72",
   "metadata": {},
   "outputs": [
    {
     "name": "stdout",
     "output_type": "stream",
     "text": [
      "I am inserting the number 100 into the middle of this string\n"
     ]
    }
   ],
   "source": [
    "x = 100\n",
    "\n",
    "print(f'I am inserting the number {x} into the middle of this string')"
   ]
  },
  {
   "attachments": {},
   "cell_type": "markdown",
   "id": "3daa1d16-1bd8-40b0-83ab-2b079a976412",
   "metadata": {},
   "source": [
    "## For-loops"
   ]
  },
  {
   "attachments": {},
   "cell_type": "markdown",
   "id": "6c5e0e60-e412-4dcf-ac10-1f59cb360159",
   "metadata": {},
   "source": [
    "Do same thing 10 times"
   ]
  },
  {
   "cell_type": "code",
   "execution_count": 4,
   "id": "d0678cf6-1a49-47b5-a6c1-76da2c627420",
   "metadata": {},
   "outputs": [
    {
     "name": "stdout",
     "output_type": "stream",
     "text": [
      "Repeating myself\n",
      "Repeating myself\n",
      "Repeating myself\n",
      "Repeating myself\n",
      "Repeating myself\n",
      "Repeating myself\n",
      "Repeating myself\n",
      "Repeating myself\n",
      "Repeating myself\n",
      "Repeating myself\n"
     ]
    }
   ],
   "source": [
    "for i in range(10):\n",
    "    print('Repeating myself')"
   ]
  },
  {
   "attachments": {},
   "cell_type": "markdown",
   "id": "9ba8de0e-1d8a-4b3b-8eba-0f1c69824360",
   "metadata": {},
   "source": [
    "Loop through a list"
   ]
  },
  {
   "cell_type": "code",
   "execution_count": 2,
   "id": "db90e426-6631-466a-b5a8-5ee540c56f07",
   "metadata": {},
   "outputs": [
    {
     "name": "stdout",
     "output_type": "stream",
     "text": [
      "a\n",
      "list\n",
      "of\n",
      "words\n"
     ]
    }
   ],
   "source": [
    "for word in ['a', 'list', 'of', 'words']:\n",
    "    print(word)"
   ]
  },
  {
   "attachments": {},
   "cell_type": "markdown",
   "id": "67a7c494-9e7b-4034-90fa-6116e1e95da1",
   "metadata": {},
   "source": [
    "add up some numbers"
   ]
  },
  {
   "cell_type": "code",
   "execution_count": 3,
   "id": "7d3e4fa8-af78-4464-9613-e8470bb6238b",
   "metadata": {},
   "outputs": [
    {
     "name": "stdout",
     "output_type": "stream",
     "text": [
      "adding 1 to total\n",
      "adding 2 to total\n",
      "adding 3 to total\n",
      "adding 4 to total\n",
      "adding 5 to total\n",
      "adding 6 to total\n",
      "adding 7 to total\n",
      "adding 8 to total\n",
      "adding 9 to total\n",
      "adding 10 to total\n",
      "Total is 55\n"
     ]
    }
   ],
   "source": [
    "total = 0\n",
    "for i in range(1,11):\n",
    "    print(f'adding {i} to total')\n",
    "    total = total + i\n",
    "\n",
    "print(f'Total is {total}')"
   ]
  },
  {
   "cell_type": "code",
   "execution_count": null,
   "id": "4f572449-b187-4f3e-96fd-b565b358fc3f",
   "metadata": {},
   "outputs": [],
   "source": []
  }
 ],
 "metadata": {
  "kernelspec": {
   "display_name": "Python 3 (ipykernel)",
   "language": "python",
   "name": "python3"
  },
  "language_info": {
   "codemirror_mode": {
    "name": "ipython",
    "version": 3
   },
   "file_extension": ".py",
   "mimetype": "text/x-python",
   "name": "python",
   "nbconvert_exporter": "python",
   "pygments_lexer": "ipython3",
   "version": "3.11.1"
  }
 },
 "nbformat": 4,
 "nbformat_minor": 5
}
