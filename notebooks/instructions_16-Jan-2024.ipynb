{
 "cells": [
  {
   "cell_type": "markdown",
   "metadata": {},
   "source": [
    "## Starting to plan the pong game\n",
    "\n",
    "I have moved old notebooks into the *reference_and_old_code* folder. This contains the reference notebooks for remembering how to do basic python tasks like loops.\n",
    "\n",
    "Remember to push your changes up to github at the end\n",
    "\n",
    "```shell\n",
    "\n",
    "git commit -am \"theo's work at school on tuesday\"\n",
    "git push origin main\n",
    "```"
   ]
  },
  {
   "cell_type": "markdown",
   "metadata": {},
   "source": [
    "### How do collisions work?"
   ]
  },
  {
   "cell_type": "markdown",
   "metadata": {},
   "source": [
    "The *sprites* game manages collisions.\n",
    "\n",
    "Run the program and make sure you understand how the game works. (Move your mouse to move the red block and bill the black blocks).\n",
    "\n",
    "```shell\n",
    "poetry run python ./code/sprites.py\n",
    "```\n",
    "\n",
    "The code for the sprites program is in the file *sprites.py* in the code directory"
   ]
  },
  {
   "cell_type": "markdown",
   "metadata": {},
   "source": [
    "Compare *sprites.py* and *bouncing.py*. Can you see that they have a similar structure?\n",
    "\n",
    "What is new in *sprites.py* versus what you saw in the *bouncing.py* program?\n",
    "\n",
    "Is the window in *sprites* resizable? What in the code determines that? Why would or wouldn't it make sense for the window to be resizable?\n",
    "\n",
    "Change the program to make the blocks green. Make them bigger. Make them smaller."
   ]
  },
  {
   "cell_type": "markdown",
   "metadata": {},
   "source": [
    "*Mouse movement*\n",
    "\n",
    "How does the user move the red block? What are the lines in the code that capture the user input for moving the red block?"
   ]
  },
  {
   "cell_type": "markdown",
   "metadata": {},
   "source": [
    "*Collisions*\n",
    "\n",
    "In the line that detects any collisions:\n",
    "```code\n",
    "blocks_hit_list = pg.sprite.spritecollide(player, block_list, True)\n",
    "```\n",
    "what does the third argument of that function do? https://www.pygame.org/docs/ref/sprite.html#pygame.sprite.spritecollide\n",
    "\n",
    "\n",
    "\n"
   ]
  },
  {
   "cell_type": "markdown",
   "metadata": {},
   "source": [
    "### Coding elements needed for pong"
   ]
  },
  {
   "cell_type": "markdown",
   "metadata": {},
   "source": [
    "Write a list of all the features of the game that you need to know how to code.\n",
    "\n",
    "Make notes here. If you double-click in the cell you can edit.\n",
    "\n",
    "For starters:\n",
    "\n",
    "- We need to be able to pop up a game window when the game starts. Should it be resizable? Full screen?\n",
    "\n",
    "- We need to allow for user input......\n",
    "\n",
    "- We need to track the score?\n",
    "\n",
    "- Do we want an all-time scoreboard?\n",
    "\n",
    "- etc\n",
    "\n",
    "- etc"
   ]
  },
  {
   "cell_type": "markdown",
   "metadata": {},
   "source": [
    "### Push code to github!!!"
   ]
  },
  {
   "cell_type": "markdown",
   "metadata": {},
   "source": []
  }
 ],
 "metadata": {
  "language_info": {
   "name": "python"
  }
 },
 "nbformat": 4,
 "nbformat_minor": 2
}
