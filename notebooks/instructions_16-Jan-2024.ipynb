{
 "cells": [
  {
   "cell_type": "markdown",
   "metadata": {},
   "source": [
    "## Starting to plan the pong game\n",
    "\n",
    "I have moved old notebooks into the *reference_and_old_code* folder. This contains the reference notebooks for remembering how to do basic python tasks like loops.\n",
    "\n",
    "Remember to push your changes up to github at the end\n",
    "\n",
    "```shell\n",
    "\n",
    "git commit -am \"theo's work at school on tuesday\"\n",
    "git push origin main\n",
    "```"
   ]
  },
  {
   "cell_type": "markdown",
   "metadata": {},
   "source": [
    "### How do collisions work?"
   ]
  },
  {
   "cell_type": "markdown",
   "metadata": {},
   "source": [
    "The *sprites* game manages collisions.\n",
    "\n",
    "Run the program and make sure you understand how the game works. (Move your mouse to move the red block and kill the black blocks).\n",
    "\n",
    "```shell\n",
    "poetry run python ./code/sprites.py\n",
    "```\n",
    "\n",
    "The code for the sprites program is in the file *sprites.py* in the code directory"
   ]
  },
  {
   "cell_type": "markdown",
   "metadata": {},
   "source": [
    "Compare *sprites.py* and *bouncing.py*. Can you see that they have a similar structure?\n",
    "\n",
    "What is new in *sprites.py* versus what you saw in the *bouncing.py* program?\n",
    "It has a lot more sprites, and those are all generated the same. The spots for those sprites are randomized. You use the mouse position. It uses the print function as well to record score.\n",
    "\n",
    "Is the window in *sprites* resizable? What in the code determines that? Why would or wouldn't it make sense for the window to be resizable?\n",
    "Yes, here SCREENRECT = pg.Rect(0, 0, 700, 400). If you wanted to be able to fit more of the black rectangles, you could make it bigger, but if you wanted to make it easier, you could make the screen smaller.\n",
    "Change the program to make the blocks green. Make them bigger. Make them smaller."
   ]
  },
  {
   "cell_type": "markdown",
   "metadata": {},
   "source": [
    "*Mouse movement*\n",
    "\n",
    "How does the user move the red block? What are the lines in the code that capture the user input for moving the red block?\n",
    "Here you are getting the x and y of the mouse: pos = pg.mouse.get_pos(), and here you are inputting that as the x and y for the red block: player.rect.x = pos[0] player.rect.y = pos[1]"
   ]
  },
  {
   "cell_type": "markdown",
   "metadata": {},
   "source": [
    "*Collisions*\n",
    "\n",
    "In the line that detects any collisions:\n",
    "```code\n",
    "blocks_hit_list = pg.sprite.spritecollide(player, block_list, True)\n",
    "```\n",
    "what does the third argument of that function do? https://www.pygame.org/docs/ref/sprite.html#pygame.sprite.spritecollide\n",
    "\n",
    "It makes it so that when the sprites collide, it is set to true, which in this case means that the block isn't alive.\n",
    "\n"
   ]
  },
  {
   "cell_type": "markdown",
   "metadata": {},
   "source": [
    "### Coding elements needed for pong"
   ]
  },
  {
   "cell_type": "markdown",
   "metadata": {},
   "source": [
    "Write a list of all the features of the game that you need to know how to code.\n",
    "\n",
    "Make notes here. If you double-click in the cell you can edit.\n",
    "\n",
    "For starters:\n",
    "\n",
    "- We need to be able to pop up a game window when the game starts. Should it be resizable? Full screen?\n",
    "\n",
    "- We need to allow for user input......\n",
    "\n",
    "- We need to track the score?\n",
    "\n",
    "- Do we want an all-time scoreboard?\n",
    "\n",
    "\n",
    "\n",
    "\n",
    "- We need to track the score\n",
    "\n",
    "- We need to make the screen, and make it full screen\n",
    "\n",
    "- We need to make and upload the desings for the paddles and the ball\n",
    "\n",
    "- We need to control the movement of the paddles from the keys\n",
    "\n",
    "- We need to make the ball bounce the opposite way of how it hit the paddle\n",
    "\n",
    "- We need to make the ball move\n",
    "\n",
    "- We need to be able to end the game when the ball hits the bottom or top\n",
    "\n",
    "- I would like to have a choice between single-player and two-player\n",
    "\n",
    "- For that we would need to make buttons, and a different screen for that\n",
    "\n",
    "- We would need to make the ball hit against the top and sides of the rectangle"
   ]
  },
  {
   "cell_type": "markdown",
   "metadata": {},
   "source": [
    "### Push code to github!!!"
   ]
  },
  {
   "cell_type": "markdown",
   "metadata": {},
   "source": []
  }
 ],
 "metadata": {
  "language_info": {
   "name": "python"
  }
 },
 "nbformat": 4,
 "nbformat_minor": 2
}
