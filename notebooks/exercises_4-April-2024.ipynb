{
 "cells": [
  {
   "cell_type": "code",
   "execution_count": null,
   "metadata": {},
   "outputs": [],
   "source": []
  },
  {
   "cell_type": "markdown",
   "metadata": {},
   "source": [
    "Refer back to the two notebooks as necessary\n",
    "- lists-and-dictionaries.ipynb\n",
    "- list-refresher.ipynb"
   ]
  },
  {
   "cell_type": "markdown",
   "metadata": {},
   "source": [
    "Exercise 1"
   ]
  },
  {
   "cell_type": "code",
   "execution_count": 3,
   "metadata": {},
   "outputs": [],
   "source": [
    "list1 = [1,4,8,23,6]"
   ]
  },
  {
   "cell_type": "code",
   "execution_count": 4,
   "metadata": {},
   "outputs": [
    {
     "data": {
      "text/plain": [
       "[1, 4, 8, 23, 6]"
      ]
     },
     "execution_count": 4,
     "metadata": {},
     "output_type": "execute_result"
    }
   ],
   "source": [
    "list1"
   ]
  },
  {
   "cell_type": "markdown",
   "metadata": {},
   "source": [
    "Write code to sum up all the numbers in list1 by looping through the elements, i.e. don't just write 1+4+8+23+6"
   ]
  },
  {
   "cell_type": "code",
   "execution_count": 7,
   "metadata": {},
   "outputs": [
    {
     "name": "stdout",
     "output_type": "stream",
     "text": [
      "42\n"
     ]
    }
   ],
   "source": [
    "total = 0\n",
    "for i in range(len(list1)):\n",
    "    total += list1[i]\n",
    "print(total)"
   ]
  },
  {
   "cell_type": "markdown",
   "metadata": {},
   "source": [
    "Exercise 2"
   ]
  },
  {
   "cell_type": "markdown",
   "metadata": {},
   "source": [
    "Write code to find the largest number in list1\n",
    "\n",
    "There are two examples below for how to compare two numbers to find the biggest."
   ]
  },
  {
   "cell_type": "code",
   "execution_count": 2,
   "metadata": {},
   "outputs": [
    {
     "name": "stdout",
     "output_type": "stream",
     "text": [
      "46\n"
     ]
    }
   ],
   "source": [
    "num1 = 24\n",
    "num2 = 46\n",
    "\n",
    "if num1 > num2:\n",
    "    bigger_number = num1\n",
    "else:\n",
    "    bigger_number = num2\n",
    "\n",
    "print(bigger_number)\n"
   ]
  },
  {
   "cell_type": "code",
   "execution_count": 12,
   "metadata": {},
   "outputs": [
    {
     "name": "stdout",
     "output_type": "stream",
     "text": [
      "0\n"
     ]
    }
   ],
   "source": [
    "largest = [0]\n",
    "for i in range(len(list1)):\n",
    "    if list1[i] > list1[i+1]:\n",
    "        largest.append(list1[i])\n",
    "print(largest[0])"
   ]
  },
  {
   "cell_type": "code",
   "execution_count": 16,
   "metadata": {},
   "outputs": [
    {
     "name": "stdout",
     "output_type": "stream",
     "text": [
      "23\n"
     ]
    }
   ],
   "source": [
    "largest = 0\n",
    "for i in range(len(list1)):\n",
    "    largest = (max(list1[i], largest))\n",
    "print (largest)"
   ]
  },
  {
   "cell_type": "markdown",
   "metadata": {},
   "source": [
    "Exercise 3\n",
    "\n",
    "Count the number of strings in list2. Guess what the answer will be before running the code\n",
    "\n",
    "There is an example below of how to check whether something is a string"
   ]
  },
  {
   "cell_type": "code",
   "execution_count": 18,
   "metadata": {},
   "outputs": [],
   "source": [
    "list2 = [1, 3, True, 'hello', 'theo', '12345', 12345]"
   ]
  },
  {
   "cell_type": "code",
   "execution_count": 5,
   "metadata": {},
   "outputs": [
    {
     "data": {
      "text/plain": [
       "False"
      ]
     },
     "execution_count": 5,
     "metadata": {},
     "output_type": "execute_result"
    }
   ],
   "source": [
    "type(123) == str"
   ]
  },
  {
   "cell_type": "code",
   "execution_count": 20,
   "metadata": {},
   "outputs": [
    {
     "data": {
      "text/plain": [
       "True"
      ]
     },
     "execution_count": 20,
     "metadata": {},
     "output_type": "execute_result"
    }
   ],
   "source": [
    "type('maisy') == str"
   ]
  },
  {
   "cell_type": "code",
   "execution_count": 20,
   "metadata": {},
   "outputs": [
    {
     "name": "stdout",
     "output_type": "stream",
     "text": [
      "3\n"
     ]
    }
   ],
   "source": [
    "counter = 0\n",
    "for i in range(len(list2)):\n",
    "    if type(list2[i]) == str:\n",
    "        counter += 1\n",
    "print (counter)\n"
   ]
  },
  {
   "cell_type": "markdown",
   "metadata": {},
   "source": [
    "Exercise 4\n",
    "\n",
    "Create a new list called list3 that is an exact clone of list2. Do it by looping through the list, i.e. don't just write list3 = [1, 3, True, 'hello', 'theo', '12345', 12345]"
   ]
  },
  {
   "cell_type": "markdown",
   "metadata": {},
   "source": [
    "You can check that two lists are the same"
   ]
  },
  {
   "cell_type": "code",
   "execution_count": 9,
   "metadata": {},
   "outputs": [
    {
     "name": "stdout",
     "output_type": "stream",
     "text": [
      "True\n",
      "False\n"
     ]
    }
   ],
   "source": [
    "tmp_list1 = [1,2]\n",
    "tmp_list2 = [1,2]\n",
    "tmp_list3 = [2]\n",
    "\n",
    "print(tmp_list1 == tmp_list2)\n",
    "print(tmp_list1 == tmp_list3)"
   ]
  },
  {
   "cell_type": "markdown",
   "metadata": {},
   "source": [
    "edit cell below to implement code and then run the check in the cell below to make sure you get True"
   ]
  },
  {
   "cell_type": "code",
   "execution_count": 21,
   "metadata": {},
   "outputs": [],
   "source": [
    "list3 = []"
   ]
  },
  {
   "cell_type": "code",
   "execution_count": 22,
   "metadata": {},
   "outputs": [
    {
     "data": {
      "text/plain": [
       "False"
      ]
     },
     "execution_count": 22,
     "metadata": {},
     "output_type": "execute_result"
    }
   ],
   "source": [
    "list3 == list2"
   ]
  },
  {
   "cell_type": "code",
   "execution_count": 23,
   "metadata": {},
   "outputs": [
    {
     "name": "stdout",
     "output_type": "stream",
     "text": [
      "[1, 3, True, 'hello', 'theo', '12345', 12345]\n",
      "[1, 3, True, 'hello', 'theo', '12345', 12345]\n"
     ]
    }
   ],
   "source": [
    "for i in range(len(list2)):\n",
    "    list3.append(list2[i])\n",
    "print (list2)\n",
    "print (list3)"
   ]
  },
  {
   "cell_type": "markdown",
   "metadata": {},
   "source": [
    "Exercise 5\n",
    "\n",
    "Create a new list called list4 that clone of list2 except that it doesnt contain the element 'hello'.\n",
    "\n",
    "You should be able to run the check below and get True"
   ]
  },
  {
   "cell_type": "code",
   "execution_count": 24,
   "metadata": {},
   "outputs": [],
   "source": [
    "list4 = []"
   ]
  },
  {
   "cell_type": "code",
   "execution_count": 13,
   "metadata": {},
   "outputs": [
    {
     "data": {
      "text/plain": [
       "False"
      ]
     },
     "execution_count": 13,
     "metadata": {},
     "output_type": "execute_result"
    }
   ],
   "source": [
    "list4 == [1, 3, True, 'theo', '12345', 12345]"
   ]
  },
  {
   "cell_type": "code",
   "execution_count": 26,
   "metadata": {},
   "outputs": [
    {
     "name": "stdout",
     "output_type": "stream",
     "text": [
      "[1, 3, True, 'theo', '12345', 12345, 1, 3, True, 'theo', '12345', 12345]\n",
      "[1, 3, True, 'hello', 'theo', '12345', 12345]\n"
     ]
    }
   ],
   "source": [
    "for i in range(len(list2)):\n",
    "    if list2[i] == 'hello':\n",
    "        pass\n",
    "    else:\n",
    "        list4.append(list2[i])\n",
    "print(list4)\n",
    "print(list2)"
   ]
  },
  {
   "cell_type": "markdown",
   "metadata": {},
   "source": [
    "### Exercise 6\n",
    "\n",
    "There are two lists, list5 and list6, both with a length of 10 and containing integers.\n",
    "\n",
    "Create a new list, list 7, where \n",
    "- the first element of list 7 is equal to the sum of the first element of list5 and the last element of list6\n",
    "- the second element is equal to the sum of the second element of list5 and the second to last element of list6\n",
    "- etc\n",
    "- the last element of list 7 is equal to the sum of the last element of list5 and the first element of list6"
   ]
  },
  {
   "cell_type": "markdown",
   "metadata": {},
   "source": []
  },
  {
   "cell_type": "code",
   "execution_count": 4,
   "metadata": {},
   "outputs": [],
   "source": [
    "list5 = [4,7,6,19,2,5,16,23,89,1]\n",
    "list6 = [-2,3,17,2,4,6,19,-2,0,99]"
   ]
  },
  {
   "cell_type": "markdown",
   "metadata": {},
   "source": [
    "you can use the following:"
   ]
  },
  {
   "cell_type": "code",
   "execution_count": 2,
   "metadata": {},
   "outputs": [
    {
     "data": {
      "text/plain": [
       "99"
      ]
     },
     "execution_count": 2,
     "metadata": {},
     "output_type": "execute_result"
    }
   ],
   "source": [
    "list6[-1]"
   ]
  },
  {
   "cell_type": "code",
   "execution_count": 6,
   "metadata": {},
   "outputs": [
    {
     "name": "stdout",
     "output_type": "stream",
     "text": [
      "[103, 7, 4, 38, 8, 9, 18, 40, 92, -1]\n"
     ]
    }
   ],
   "source": [
    "list7 = []\n",
    "for i in range(len(list5)):\n",
    "    list7.append(list5[i] + list6[-i - 1])\n",
    "print (list7)\n"
   ]
  },
  {
   "cell_type": "markdown",
   "metadata": {},
   "source": []
  },
  {
   "cell_type": "code",
   "execution_count": 7,
   "metadata": {},
   "outputs": [
    {
     "data": {
      "text/plain": [
       "True"
      ]
     },
     "execution_count": 7,
     "metadata": {},
     "output_type": "execute_result"
    }
   ],
   "source": [
    "list8 = ['a','b','c']\n",
    "'a' in list8"
   ]
  },
  {
   "cell_type": "code",
   "execution_count": 8,
   "metadata": {},
   "outputs": [
    {
     "data": {
      "text/plain": [
       "False"
      ]
     },
     "execution_count": 8,
     "metadata": {},
     "output_type": "execute_result"
    }
   ],
   "source": [
    "10 in list8"
   ]
  },
  {
   "cell_type": "code",
   "execution_count": 9,
   "metadata": {},
   "outputs": [],
   "source": [
    "s ='theo'"
   ]
  },
  {
   "cell_type": "code",
   "execution_count": 10,
   "metadata": {},
   "outputs": [
    {
     "data": {
      "text/plain": [
       "True"
      ]
     },
     "execution_count": 10,
     "metadata": {},
     "output_type": "execute_result"
    }
   ],
   "source": [
    "'t' in s"
   ]
  },
  {
   "cell_type": "code",
   "execution_count": 17,
   "metadata": {},
   "outputs": [],
   "source": [
    "list9 = [\n",
    "    'theo',\n",
    "    'maisy',\n",
    "    'boisey',\n",
    "    'slimy',\n",
    "    'Steven'\n",
    "]"
   ]
  },
  {
   "cell_type": "markdown",
   "metadata": {},
   "source": [
    "Create a new list, list10, that contains all the words that contain the letter 's'"
   ]
  },
  {
   "cell_type": "code",
   "execution_count": 19,
   "metadata": {},
   "outputs": [
    {
     "name": "stdout",
     "output_type": "stream",
     "text": [
      "['maisy', 'boisey', 'slimy', 'Steven']\n"
     ]
    }
   ],
   "source": [
    "list_s = []\n",
    "for i in range(len(list9)):\n",
    "    if 's' in list9[i] or 'S' in list9[i]:\n",
    "        list_s.append(list9[i])\n",
    "print(list_s)"
   ]
  },
  {
   "cell_type": "code",
   "execution_count": null,
   "metadata": {},
   "outputs": [],
   "source": []
  },
  {
   "cell_type": "code",
   "execution_count": 22,
   "metadata": {},
   "outputs": [
    {
     "data": {
      "text/plain": [
       "'T'"
      ]
     },
     "execution_count": 22,
     "metadata": {},
     "output_type": "execute_result"
    }
   ],
   "source": [
    "'theo'[0].upper()"
   ]
  },
  {
   "cell_type": "markdown",
   "metadata": {},
   "source": [
    "Create a list, list11, that consist of all the names in list9 but with the first letter being upper case"
   ]
  },
  {
   "cell_type": "code",
   "execution_count": 61,
   "metadata": {},
   "outputs": [
    {
     "name": "stdout",
     "output_type": "stream",
     "text": [
      "['Theo', 'Maisy', 'Boisey', 'Slimy', 'Steven']\n"
     ]
    }
   ],
   "source": [
    "def make_first_letter_upper(name):\n",
    "    list_name = list(name)\n",
    "    list_name[0]= list_name[0].upper()\n",
    "    return ''.join(list_name)\n",
    "\n",
    "list11 = []\n",
    "list_name = []\n",
    "totalthing = []\n",
    "for i in range(len(list9)):\n",
    "    totalthing.append(make_first_letter_upper(list9[i]))\n",
    "print(totalthing)"
   ]
  },
  {
   "cell_type": "code",
   "execution_count": 32,
   "metadata": {},
   "outputs": [
    {
     "name": "stdout",
     "output_type": "stream",
     "text": [
      "['t', 'o', 'n', 'y']\n"
     ]
    }
   ],
   "source": [
    "name = 'tony'\n",
    "name_list = list(name)\n",
    "print(name_list)"
   ]
  },
  {
   "cell_type": "code",
   "execution_count": 33,
   "metadata": {},
   "outputs": [
    {
     "name": "stdout",
     "output_type": "stream",
     "text": [
      "['T', 'o', 'n', 'y']\n"
     ]
    }
   ],
   "source": [
    "name_list[0] = name_list[0].upper()\n",
    "print(name_list)"
   ]
  },
  {
   "cell_type": "code",
   "execution_count": 37,
   "metadata": {},
   "outputs": [
    {
     "data": {
      "text/plain": [
       "'Tony'"
      ]
     },
     "execution_count": 37,
     "metadata": {},
     "output_type": "execute_result"
    }
   ],
   "source": [
    "''.join(name_list)"
   ]
  },
  {
   "cell_type": "markdown",
   "metadata": {},
   "source": []
  }
 ],
 "metadata": {
  "kernelspec": {
   "display_name": "Python 3 (ipykernel)",
   "language": "python",
   "name": "python3"
  },
  "language_info": {
   "codemirror_mode": {
    "name": "ipython",
    "version": 3
   },
   "file_extension": ".py",
   "mimetype": "text/x-python",
   "name": "python",
   "nbconvert_exporter": "python",
   "pygments_lexer": "ipython3",
   "version": "3.10.13"
  }
 },
 "nbformat": 4,
 "nbformat_minor": 2
}
