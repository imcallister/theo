{
 "cells": [
  {
   "cell_type": "markdown",
   "metadata": {},
   "source": [
    "## Learning pygame"
   ]
  },
  {
   "cell_type": "markdown",
   "metadata": {},
   "source": [
    "#### Resources\n",
    "- https://www.pygame.org/docs/\n",
    "- https://pygame.readthedocs.io/en/latest/1_intro/intro.html#define-colors  (it is for an earlier version of pygame so poissible some bits of code won't run)\n",
    "- The pygame.org site list lost of tutorials https://www.pygame.org/wiki/tutorials"
   ]
  },
  {
   "cell_type": "markdown",
   "metadata": {},
   "source": [
    "You will be experimenting with *bouncing.py*\n",
    "\n",
    "Make sure you can run the program. You need to be in the *theo* directory.\n",
    "\n",
    "To find out what directory you are in use *pwd* (short for present working directory). It should return\n",
    "``` shell\n",
    "/Users/ianmcallister/coding/theo\n",
    "```\n",
    "If it doesn't then you can use *cd* (short for change directory). e.g. if *pwd* returned */Users/ianmcallister/coding* then you would do:\n",
    "```shell\n",
    "cd theo\n",
    "```\n",
    "\n",
    "Now to run the program:\n",
    "```shell\n",
    "poetry run python ./code/bouncing.py\n",
    "```"
   ]
  },
  {
   "cell_type": "markdown",
   "metadata": {},
   "source": [
    "### 11th January"
   ]
  },
  {
   "cell_type": "markdown",
   "metadata": {},
   "source": [
    "#### Exercises\n",
    "\n",
    "1) Change the background color to be green. See https://pygame.readthedocs.io/en/latest/1_intro/intro.html#define-colors\n",
    "\n",
    "2) You can currently quit the program by either clicking the *X* in top left corner or pressing *escape*. Add a line to have the program also quit if you press *q*. See https://www.pygame.org/docs/ref/key.html\n",
    "\n",
    "3) What happens if you comment out the line with following command ```screen.fill(BLACK)```?\n",
    "\n",
    "4) How would you change the code to make the ball move very slowly?\n",
    "\n",
    "5) Change the code to make the ball move to the left instead of the right. See https://www.pygame.org/docs/ref/rect.html#pygame.Rect.move_ip\n",
    "\n",
    "6) Change the code to make the ball move up instead of horizontally.\n"
   ]
  },
  {
   "cell_type": "markdown",
   "metadata": {},
   "source": [
    "### Next"
   ]
  },
  {
   "cell_type": "markdown",
   "metadata": {},
   "source": []
  }
 ],
 "metadata": {
  "language_info": {
   "name": "python"
  }
 },
 "nbformat": 4,
 "nbformat_minor": 2
}
