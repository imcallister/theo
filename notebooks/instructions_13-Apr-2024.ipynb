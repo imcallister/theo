{
 "cells": [
  {
   "cell_type": "markdown",
   "metadata": {},
   "source": [
    "### Exercise on factoring numbers\n",
    "\n",
    "Write a function, called *is_factor*,  with two integer inputs, k and n, that will return True is k is a factor of n and False if it is not.\n",
    "\n",
    "Use the python operator % that returns the remainder when one number is divided by another"
   ]
  },
  {
   "cell_type": "code",
   "execution_count": 7,
   "metadata": {},
   "outputs": [
    {
     "name": "stdout",
     "output_type": "stream",
     "text": [
      "Remainder when 10 is divided by 4:    2\n",
      "Remainder when 29 is divided by 5:    4\n",
      "Remainder when 25 is divided by 5:    0\n"
     ]
    }
   ],
   "source": [
    "print('Remainder when 10 is divided by 4:   ', 10 % 4)\n",
    "print('Remainder when 29 is divided by 5:   ', 29 % 5)\n",
    "print('Remainder when 25 is divided by 5:   ', 25 % 5)"
   ]
  },
  {
   "cell_type": "code",
   "execution_count": 24,
   "metadata": {},
   "outputs": [],
   "source": [
    "def is_factor(k, n):\n",
    "    input_1 = int(n)\n",
    "    input_2 = int(k)\n",
    "    if input_1 % input_2 == 0:\n",
    "        return True\n",
    "    else:\n",
    "        return False"
   ]
  },
  {
   "cell_type": "code",
   "execution_count": 25,
   "metadata": {},
   "outputs": [
    {
     "data": {
      "text/plain": [
       "True"
      ]
     },
     "execution_count": 25,
     "metadata": {},
     "output_type": "execute_result"
    }
   ],
   "source": [
    "is_factor(13, 26)"
   ]
  },
  {
   "cell_type": "markdown",
   "metadata": {},
   "source": [
    "Your function should pass the following tests\n",
    "\n",
    "- *is_factor(10, 25)* returns *False*\n",
    "- *is_factor(13,26)* returns *True*\n",
    "- *is_factor(7, 196)* returns *True*\n",
    "\n",
    "\n",
    "Recall that a python function will look like this\n",
    "\n",
    "```code\n",
    "def my_function(input1, input2):\n",
    "   # does something\n",
    "   return 'hello'\n",
    "```\n",
    "\n",
    "The *#* designates that line as being a comment, and python will ignore it.\n",
    "\n",
    "You call your function by typing function name and putting the required arguments in parentheses. For example, *my_function(12,23)*.\n",
    "A function can have as many arguments as you need"
   ]
  },
  {
   "cell_type": "markdown",
   "metadata": {},
   "source": [
    "### Checking whether an integer is prime\n",
    "\n",
    "Using your function, *is_factor*, defined above write a function called *is_prime* with an integer input called n that returns True if n is prime\n",
    "\n",
    "Your function should pass the following tests\n",
    "- *is_prime(21)* returns False\n",
    "- *is_prime(19)* returns True\n",
    "- *is_prime(101)* returns True"
   ]
  },
  {
   "cell_type": "code",
   "execution_count": 18,
   "metadata": {},
   "outputs": [
    {
     "name": "stdout",
     "output_type": "stream",
     "text": [
      "terf\n"
     ]
    }
   ],
   "source": [
    "def is_prime(n):\n",
    "    for i in range(n):\n",
    "        if is_factor(n, i) == False:\n",
    "            pass\n",
    "        else:\n",
    "            print(\"isn't prime\")\n",
    "            return\n",
    "print(\"is prime\")\n",
    "        "
   ]
  },
  {
   "cell_type": "code",
   "execution_count": null,
   "metadata": {},
   "outputs": [],
   "source": []
  },
  {
   "cell_type": "markdown",
   "metadata": {},
   "source": [
    "### Mini-project\n",
    "\n",
    "You will create an application in which a user will input positive integers and will be told whether the number is prime. As an example of how it should work:\n",
    "\n",
    "Please enter a positive integer (press q to quit):  25 \\\n",
    "The number, 25, is not a prime number. \\\n",
    "Please enter a positive integer (press q to quit):  19 \\\n",
    "The number, 19, is not a prime number. \\\n",
    "Please enter a positive integer (press q to quit):  -12 \\\n",
    "-12 is not a positive number. \\\n",
    "Please enter a positive integer (press q to quit):  q \\\n",
    "Thank you and good bye\n",
    "\n",
    "There is a file called *prime_numbers.py* already in the *code* directory that you should use.\n",
    "\n",
    "It will run in the terminal window below. While you are testing you can always use Ctrl-c to stop the program.\n",
    "\n",
    "Things to watchout for:\n",
    "- when you read in the number from input it will probably be a string, i.e. you will get \"25\" instead of 25. So you will need to \"cast\" it to an integer by using the function int(). For example int(\"25\") returns the number 25\n",
    "- you will want to use a while loop (look back at your pong program) that keeps asking for new numbers until the user indicates that they are done"
   ]
  },
  {
   "cell_type": "code",
   "execution_count": null,
   "metadata": {},
   "outputs": [],
   "source": []
  }
 ],
 "metadata": {
  "kernelspec": {
   "display_name": "theo-nkEyNyca-py3.11",
   "language": "python",
   "name": "python3"
  },
  "language_info": {
   "codemirror_mode": {
    "name": "ipython",
    "version": 3
   },
   "file_extension": ".py",
   "mimetype": "text/x-python",
   "name": "python",
   "nbconvert_exporter": "python",
   "pygments_lexer": "ipython3",
   "version": "3.11.6"
  }
 },
 "nbformat": 4,
 "nbformat_minor": 2
}
