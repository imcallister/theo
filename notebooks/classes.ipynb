{
 "cells": [
  {
   "cell_type": "code",
   "execution_count": 29,
   "metadata": {},
   "outputs": [],
   "source": [
    "class ComplexNumber:\n",
    "\n",
    "    def __init__(self, real, imaginary):\n",
    "        print('Calling __init__')\n",
    "        self.real = real\n",
    "        self.imaginary = imaginary\n",
    "\n",
    "    def __str__(self):\n",
    "        print('Calling __str__')\n",
    "        return f'{self.real} + {self.imaginary}i'\n",
    "    \n",
    "    def __repr__(self):\n",
    "        print('Calling __repr__')\n",
    "        return f'{self.real} + {self.imaginary}i'\n",
    "    \n",
    "    def __add__(self, z):\n",
    "        print('Calling __add__')\n",
    "        return ComplexNumber(self.real + z.real, self.imaginary + z.imaginary)\n",
    "    \n",
    "    def __sub__(self, z):\n",
    "        print('Calling __sub__')\n",
    "        return 'Subtraction not implemented'\n",
    "    \n",
    "    def __mul__(self, z):\n",
    "        print('Calling __mul__')\n",
    "        return 'Multiplication not implemented'\n",
    "    \n",
    "    def __abs__(self):\n",
    "        print('Calling __abs__')\n",
    "        return 'Absolute value not implemented'"
   ]
  },
  {
   "cell_type": "code",
   "execution_count": 30,
   "metadata": {},
   "outputs": [
    {
     "name": "stdout",
     "output_type": "stream",
     "text": [
      "Calling __init__\n",
      "Calling __init__\n"
     ]
    }
   ],
   "source": [
    "x = ComplexNumber(2,3)\n",
    "y = ComplexNumber(3,4)"
   ]
  },
  {
   "cell_type": "code",
   "execution_count": 32,
   "metadata": {},
   "outputs": [
    {
     "name": "stdout",
     "output_type": "stream",
     "text": [
      "Calling __add__\n",
      "Calling __init__\n",
      "Calling __repr__\n"
     ]
    },
    {
     "data": {
      "text/plain": [
       "5 + 7i"
      ]
     },
     "execution_count": 32,
     "metadata": {},
     "output_type": "execute_result"
    }
   ],
   "source": [
    "x + y"
   ]
  },
  {
   "cell_type": "code",
   "execution_count": 33,
   "metadata": {},
   "outputs": [
    {
     "name": "stdout",
     "output_type": "stream",
     "text": [
      "Calling __str__\n",
      "2 + 3i\n"
     ]
    }
   ],
   "source": [
    "print(x)"
   ]
  },
  {
   "cell_type": "markdown",
   "metadata": {},
   "source": [
    "### Exercise 1\n",
    "\n",
    "Add code to allow our complex number class to \n",
    "- subtract one complex number from another\n",
    "- multiple two complex numbers together\n",
    "- calculte the absolute value of a complex number"
   ]
  },
  {
   "cell_type": "code",
   "execution_count": 34,
   "metadata": {},
   "outputs": [
    {
     "name": "stdout",
     "output_type": "stream",
     "text": [
      "Calling __sub__\n"
     ]
    },
    {
     "data": {
      "text/plain": [
       "'Subtraction not implemented'"
      ]
     },
     "execution_count": 34,
     "metadata": {},
     "output_type": "execute_result"
    }
   ],
   "source": [
    "x - y"
   ]
  },
  {
   "cell_type": "code",
   "execution_count": 35,
   "metadata": {},
   "outputs": [
    {
     "name": "stdout",
     "output_type": "stream",
     "text": [
      "Calling __abs__\n"
     ]
    },
    {
     "data": {
      "text/plain": [
       "'Absolute value not implemented'"
      ]
     },
     "execution_count": 35,
     "metadata": {},
     "output_type": "execute_result"
    }
   ],
   "source": [
    "abs(x)"
   ]
  },
  {
   "cell_type": "code",
   "execution_count": 36,
   "metadata": {},
   "outputs": [
    {
     "name": "stdout",
     "output_type": "stream",
     "text": [
      "Calling __mul__\n"
     ]
    },
    {
     "data": {
      "text/plain": [
       "'Multiplication not implemented'"
      ]
     },
     "execution_count": 36,
     "metadata": {},
     "output_type": "execute_result"
    }
   ],
   "source": [
    "x * y"
   ]
  },
  {
   "cell_type": "markdown",
   "metadata": {},
   "source": [
    "### Exercise 2\n",
    "\n",
    "Rewrite the class to have it print better.\\\n",
    "e.g in example below print *4 - 5i* instead of *4 + -5i*"
   ]
  },
  {
   "cell_type": "code",
   "execution_count": 37,
   "metadata": {},
   "outputs": [
    {
     "name": "stdout",
     "output_type": "stream",
     "text": [
      "Calling __init__\n",
      "Calling __str__\n",
      "4 + -5i\n"
     ]
    }
   ],
   "source": [
    "z = ComplexNumber(4,-5)\n",
    "print(z)"
   ]
  },
  {
   "cell_type": "markdown",
   "metadata": {},
   "source": []
  },
  {
   "cell_type": "code",
   "execution_count": null,
   "metadata": {},
   "outputs": [],
   "source": []
  },
  {
   "cell_type": "code",
   "execution_count": 1,
   "metadata": {},
   "outputs": [],
   "source": [
    "class Incrementer:\n",
    "\n",
    "    def __init__(self):\n",
    "        self.num = 0\n",
    "\n",
    "    def __str__(self):\n",
    "        return f'Count is: {self.num}'\n",
    "\n",
    "    def add_one(self):\n",
    "        self.num = self.num + 1\n",
    "\n",
    "    "
   ]
  },
  {
   "cell_type": "code",
   "execution_count": 2,
   "metadata": {},
   "outputs": [],
   "source": [
    "inc = Incrementer()"
   ]
  },
  {
   "cell_type": "code",
   "execution_count": 3,
   "metadata": {},
   "outputs": [
    {
     "name": "stdout",
     "output_type": "stream",
     "text": [
      "Count is: 1\n"
     ]
    }
   ],
   "source": [
    "inc.add_one()\n",
    "print(inc)"
   ]
  },
  {
   "cell_type": "code",
   "execution_count": 4,
   "metadata": {},
   "outputs": [
    {
     "name": "stdout",
     "output_type": "stream",
     "text": [
      "Count is: 2\n"
     ]
    }
   ],
   "source": [
    "inc.add_one()\n",
    "print(inc)"
   ]
  },
  {
   "cell_type": "code",
   "execution_count": 6,
   "metadata": {},
   "outputs": [
    {
     "name": "stdout",
     "output_type": "stream",
     "text": [
      "Count is: 4\n",
      "Count is: 5\n"
     ]
    }
   ],
   "source": [
    "key = None\n",
    "while key != 'Q':\n",
    "    key = input('A to add one. Q to quit')\n",
    "    if key == 'A':\n",
    "        inc.add_one()\n",
    "        print(inc)"
   ]
  },
  {
   "cell_type": "code",
   "execution_count": null,
   "metadata": {},
   "outputs": [],
   "source": []
  }
 ],
 "metadata": {
  "kernelspec": {
   "display_name": "theo-Ad0R6X59-py3.12",
   "language": "python",
   "name": "python3"
  },
  "language_info": {
   "codemirror_mode": {
    "name": "ipython",
    "version": 3
   },
   "file_extension": ".py",
   "mimetype": "text/x-python",
   "name": "python",
   "nbconvert_exporter": "python",
   "pygments_lexer": "ipython3",
   "version": "3.12.1"
  }
 },
 "nbformat": 4,
 "nbformat_minor": 2
}
