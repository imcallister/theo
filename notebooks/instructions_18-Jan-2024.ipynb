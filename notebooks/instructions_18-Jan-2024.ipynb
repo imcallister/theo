{
 "cells": [
  {
   "cell_type": "markdown",
   "metadata": {},
   "source": [
    "1. We need to be able to make a (full screen) pop up game window when the game starts\n",
    "\n",
    "2. We need to make the paddle\n",
    "\n",
    "3. Paddle movement\n",
    "\n",
    "- We need to allow for user input......\n",
    "\n",
    "- We need to track the score?\n",
    "\n",
    "- Do we want an all-time scoreboard?\n",
    "\n",
    "- We need to track the score\n",
    "\n",
    "- We need to make the screen, and make it full screen\n",
    "\n",
    "- We need to control the movement of the paddles from the keys\n",
    "\n",
    "- We need to make the ball bounce the opposite way of how it hit the paddle\n",
    "\n",
    "- We need to make the ball move\n",
    "\n",
    "- We need to be able to end the game when the ball hits the bottom or top\n",
    "\n",
    "- I would like to have a choice between single-player and two-player\n",
    "\n",
    "- For that we would need to make buttons, and a different screen for that\n",
    "\n",
    "- We would need to make the ball hit against the top and sides of the rectangle"
   ]
  }
 ],
 "metadata": {
  "language_info": {
   "name": "python"
  }
 },
 "nbformat": 4,
 "nbformat_minor": 2
}
