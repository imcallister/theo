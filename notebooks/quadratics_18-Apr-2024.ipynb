{
 "cells": [
  {
   "cell_type": "markdown",
   "metadata": {},
   "source": [
    "### Solving quadratic equations"
   ]
  },
  {
   "cell_type": "markdown",
   "metadata": {},
   "source": [
    "To multiple numbers in python use the * operator"
   ]
  },
  {
   "cell_type": "code",
   "execution_count": 14,
   "metadata": {},
   "outputs": [
    {
     "data": {
      "text/plain": [
       "48"
      ]
     },
     "execution_count": 14,
     "metadata": {},
     "output_type": "execute_result"
    }
   ],
   "source": [
    "4 * 12"
   ]
  },
  {
   "cell_type": "markdown",
   "metadata": {},
   "source": [
    "In python there is an operator ** that will raise a number to whatever power you want. So x to the power of y is calculated as x ** y"
   ]
  },
  {
   "cell_type": "code",
   "execution_count": 1,
   "metadata": {},
   "outputs": [
    {
     "data": {
      "text/plain": [
       "16"
      ]
     },
     "execution_count": 1,
     "metadata": {},
     "output_type": "execute_result"
    }
   ],
   "source": [
    "4 ** 2"
   ]
  },
  {
   "cell_type": "code",
   "execution_count": 2,
   "metadata": {},
   "outputs": [
    {
     "data": {
      "text/plain": [
       "32"
      ]
     },
     "execution_count": 2,
     "metadata": {},
     "output_type": "execute_result"
    }
   ],
   "source": [
    "2 ** 5"
   ]
  },
  {
   "cell_type": "code",
   "execution_count": 3,
   "metadata": {},
   "outputs": [
    {
     "data": {
      "text/plain": [
       "2.25"
      ]
     },
     "execution_count": 3,
     "metadata": {},
     "output_type": "execute_result"
    }
   ],
   "source": [
    "1.5 ** 2"
   ]
  },
  {
   "cell_type": "markdown",
   "metadata": {},
   "source": [
    "#### Exercise 1. \n",
    "\n",
    "Write a function called quadratic1 that has an input x and returns the value of the quadratic:\n",
    "\n",
    "$2x^2 - 14x -12$"
   ]
  },
  {
   "cell_type": "code",
   "execution_count": 2,
   "metadata": {},
   "outputs": [],
   "source": [
    "def quadratic1(x):\n",
    "    output = 2*(x**2) - (14*x) - (12)\n",
    "    return output"
   ]
  },
  {
   "cell_type": "code",
   "execution_count": null,
   "metadata": {},
   "outputs": [],
   "source": []
  },
  {
   "cell_type": "markdown",
   "metadata": {},
   "source": [
    "#### Exercise 2. \n",
    "\n",
    "Write a loop that prints out a table of x and y where x is the input to your quadratic function and y is the output\n",
    "\n",
    "\n",
    "<pre>\n",
    "x         y\n",
    "-------------\n",
    "-10\n",
    "-9\n",
    "-8\n",
    "-7\n",
    "-6\n",
    "-5\n",
    "-4\n",
    "-3\n",
    "-2\n",
    "-1\n",
    "0\n",
    "1\n",
    "2\n",
    "3\n",
    "4\n",
    "5\n",
    "6\n",
    "7\n",
    "8\n",
    "9\n",
    "10\n",
    "</pre>"
   ]
  },
  {
   "cell_type": "markdown",
   "metadata": {},
   "source": [
    "You want might to use range with a negative number in this:"
   ]
  },
  {
   "cell_type": "code",
   "execution_count": 1,
   "metadata": {},
   "outputs": [
    {
     "data": {
      "text/plain": [
       "[-10, -9, -8, -7, -6, -5, -4, -3, -2, -1, 0, 1, 2, 3, 4, 5, 6, 7, 8, 9, 10]"
      ]
     },
     "execution_count": 1,
     "metadata": {},
     "output_type": "execute_result"
    }
   ],
   "source": [
    "list(range(-10,11))"
   ]
  },
  {
   "cell_type": "code",
   "execution_count": 4,
   "metadata": {},
   "outputs": [
    {
     "name": "stdout",
     "output_type": "stream",
     "text": [
      "x       y\n",
      "---------\n",
      "-10    328\n",
      "-9    276\n",
      "-8    228\n",
      "-7    184\n",
      "-6    144\n",
      "-5    108\n",
      "-4    76\n",
      "-3    48\n",
      "-2    24\n",
      "-1    4\n",
      "0    -12\n",
      "1    -24\n",
      "2    -32\n",
      "3    -36\n",
      "4    -36\n",
      "5    -32\n",
      "6    -24\n",
      "7    -12\n",
      "8    4\n",
      "9    24\n"
     ]
    }
   ],
   "source": [
    "print(\"x       y\")\n",
    "print(\"---------\")\n",
    "for i in list(range(-10,10)):\n",
    "    print (i, \"  \", quadratic1(i))"
   ]
  },
  {
   "cell_type": "markdown",
   "metadata": {},
   "source": [
    "### Exercise 3.\n",
    "\n",
    "Write a function to find the interval in which the value of y flips sign. \n",
    "\n",
    "Looking at table your function should find two intervals, from -1 to 0 and from 7 to 8"
   ]
  },
  {
   "cell_type": "markdown",
   "metadata": {},
   "source": []
  },
  {
   "cell_type": "code",
   "execution_count": null,
   "metadata": {},
   "outputs": [],
   "source": []
  },
  {
   "cell_type": "markdown",
   "metadata": {},
   "source": []
  },
  {
   "cell_type": "code",
   "execution_count": 14,
   "metadata": {},
   "outputs": [
    {
     "name": "stdout",
     "output_type": "stream",
     "text": [
      "-10    328\n",
      "-9    276\n",
      "-8    228\n",
      "-7    184\n",
      "-6    144\n",
      "-5    108\n",
      "-4    76\n",
      "-3    48\n",
      "-2    24\n",
      "-1    4 *\n",
      "0    -12\n",
      "1    -24\n",
      "2    -32\n",
      "3    -36\n",
      "4    -36\n",
      "5    -32\n",
      "6    -24\n",
      "7    -12\n",
      "8    4\n",
      "9    24\n"
     ]
    }
   ],
   "source": [
    "descending = True\n",
    "correct_value = []\n",
    "for i in list(range(-10,10)):\n",
    "    if quadratic1(i) == correct_value:\n",
    "        print(i, \"  \", quadratic1(i), \"*\")\n",
    "    if abs(quadratic1(i)) < abs(quadratic1(i+1)) and descending == True:\n",
    "        print(i, \"  \", quadratic1(i), \"*\")\n",
    "        descending = False\n",
    "        correct_value.append(quadratic1(i))\n",
    "    else:\n",
    "        print(i, \"  \", quadratic1(i))"
   ]
  },
  {
   "cell_type": "code",
   "execution_count": 15,
   "metadata": {},
   "outputs": [
    {
     "name": "stdout",
     "output_type": "stream",
     "text": [
      "-10    328\n",
      "-9    276\n",
      "-8    228\n",
      "-7    184\n",
      "-6    144\n",
      "-5    108\n",
      "-4    76\n",
      "-3    48\n",
      "-2    24\n",
      "-1    4 *\n",
      "0    -12 *\n",
      "1    -24 *\n",
      "2    -32 *\n",
      "3    -36\n",
      "4    -36\n",
      "5    -32\n",
      "6    -24\n",
      "7    -12\n",
      "8    4 *\n",
      "9    24 *\n"
     ]
    }
   ],
   "source": [
    "for i in list(range(-10,10)):\n",
    "    i_value = quadratic1(i)\n",
    "    iplusone_value = quadratic1(i + 1)\n",
    "\n",
    "    if abs(i_value) < abs(iplusone_value):\n",
    "        print(i, \"  \", i_value, \"*\")\n",
    "    else:\n",
    "        print(i, \"  \", i_value)"
   ]
  },
  {
   "cell_type": "code",
   "execution_count": null,
   "metadata": {},
   "outputs": [],
   "source": []
  },
  {
   "cell_type": "code",
   "execution_count": null,
   "metadata": {},
   "outputs": [],
   "source": []
  },
  {
   "cell_type": "code",
   "execution_count": null,
   "metadata": {},
   "outputs": [],
   "source": []
  },
  {
   "cell_type": "code",
   "execution_count": null,
   "metadata": {},
   "outputs": [],
   "source": []
  },
  {
   "cell_type": "code",
   "execution_count": null,
   "metadata": {},
   "outputs": [],
   "source": []
  },
  {
   "cell_type": "markdown",
   "metadata": {},
   "source": [
    "### Exercise 4.\n",
    "\n",
    "Zoom in on selected intervals to get a better approximation the quadratic solution.\n",
    "\n",
    "For example in above exercises we can see that one of the solutions is between -1 and 0. Lets now calculate the value of y at -1, -0.95, -0.9,..., -0.1, -0.05, 0\n",
    "\n",
    "You need to be able to generate a list of values for x. The usual python function *range* only works for integers, so use the function below. You don't need to understand the syntax, just what the inputs and outputs are."
   ]
  },
  {
   "cell_type": "code",
   "execution_count": 9,
   "metadata": {},
   "outputs": [],
   "source": [
    "def increment_list(x , y, steps_per_unit):\n",
    "    l = range(x * steps_per_unit, y * steps_per_unit + 1)\n",
    "    return [x / steps_per_unit for x in l]"
   ]
  },
  {
   "cell_type": "code",
   "execution_count": 10,
   "metadata": {},
   "outputs": [
    {
     "data": {
      "text/plain": [
       "[2.0, 2.1, 2.2, 2.3, 2.4, 2.5, 2.6, 2.7, 2.8, 2.9, 3.0]"
      ]
     },
     "execution_count": 10,
     "metadata": {},
     "output_type": "execute_result"
    }
   ],
   "source": [
    "increment_list(2,3,10)"
   ]
  },
  {
   "cell_type": "code",
   "execution_count": 7,
   "metadata": {},
   "outputs": [
    {
     "data": {
      "text/plain": [
       "[2.0,\n",
       " 2.05,\n",
       " 2.1,\n",
       " 2.15,\n",
       " 2.2,\n",
       " 2.25,\n",
       " 2.3,\n",
       " 2.35,\n",
       " 2.4,\n",
       " 2.45,\n",
       " 2.5,\n",
       " 2.55,\n",
       " 2.6,\n",
       " 2.65,\n",
       " 2.7,\n",
       " 2.75,\n",
       " 2.8,\n",
       " 2.85,\n",
       " 2.9,\n",
       " 2.95,\n",
       " 3.0]"
      ]
     },
     "execution_count": 7,
     "metadata": {},
     "output_type": "execute_result"
    }
   ],
   "source": [
    "increment_list(2,3,20)"
   ]
  },
  {
   "cell_type": "markdown",
   "metadata": {},
   "source": [
    "So now you can generate the new more refined tables of x's and y's to find where y flips sign to within an accuracy of 0.05.\n",
    "\n",
    "Print out a table in same format as you did above when you ran it for x between -10 and 10"
   ]
  },
  {
   "cell_type": "markdown",
   "metadata": {},
   "source": []
  }
 ],
 "metadata": {
  "kernelspec": {
   "display_name": "Python 3",
   "language": "python",
   "name": "python3"
  },
  "language_info": {
   "codemirror_mode": {
    "name": "ipython",
    "version": 3
   },
   "file_extension": ".py",
   "mimetype": "text/x-python",
   "name": "python",
   "nbconvert_exporter": "python",
   "pygments_lexer": "ipython3",
   "version": "3.12.2"
  }
 },
 "nbformat": 4,
 "nbformat_minor": 2
}
