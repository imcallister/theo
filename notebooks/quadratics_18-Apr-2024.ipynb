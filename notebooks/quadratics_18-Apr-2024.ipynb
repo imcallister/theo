{
 "cells": [
  {
   "cell_type": "markdown",
   "metadata": {},
   "source": [
    "### Solving quadratic equations"
   ]
  },
  {
   "cell_type": "markdown",
   "metadata": {},
   "source": [
    "To multiple numbers in python use the * operator"
   ]
  },
  {
   "cell_type": "code",
   "execution_count": 14,
   "metadata": {},
   "outputs": [
    {
     "data": {
      "text/plain": [
       "48"
      ]
     },
     "execution_count": 14,
     "metadata": {},
     "output_type": "execute_result"
    }
   ],
   "source": [
    "4 * 12"
   ]
  },
  {
   "cell_type": "markdown",
   "metadata": {},
   "source": [
    "In python there is an operator ** that will raise a number to whatever power you want. So x to the power of y is calculated as x ** y"
   ]
  },
  {
   "cell_type": "code",
   "execution_count": 1,
   "metadata": {},
   "outputs": [
    {
     "data": {
      "text/plain": [
       "16"
      ]
     },
     "execution_count": 1,
     "metadata": {},
     "output_type": "execute_result"
    }
   ],
   "source": [
    "4 ** 2"
   ]
  },
  {
   "cell_type": "code",
   "execution_count": 2,
   "metadata": {},
   "outputs": [
    {
     "data": {
      "text/plain": [
       "32"
      ]
     },
     "execution_count": 2,
     "metadata": {},
     "output_type": "execute_result"
    }
   ],
   "source": [
    "2 ** 5"
   ]
  },
  {
   "cell_type": "code",
   "execution_count": 3,
   "metadata": {},
   "outputs": [
    {
     "data": {
      "text/plain": [
       "2.25"
      ]
     },
     "execution_count": 3,
     "metadata": {},
     "output_type": "execute_result"
    }
   ],
   "source": [
    "1.5 ** 2"
   ]
  },
  {
   "cell_type": "markdown",
   "metadata": {},
   "source": [
    "#### Exercise 1. \n",
    "\n",
    "Write a function called quadratic1 that has an input x and returns the value of the quadratic:\n",
    "\n",
    "$2x^2 - 14x -12$"
   ]
  },
  {
   "cell_type": "code",
   "execution_count": 2,
   "metadata": {},
   "outputs": [],
   "source": [
    "def quadratic1(x):\n",
    "    output = 2*(x**2) - (14*x) - (12)\n",
    "    return output"
   ]
  },
  {
   "cell_type": "code",
   "execution_count": null,
   "metadata": {},
   "outputs": [],
   "source": []
  },
  {
   "cell_type": "markdown",
   "metadata": {},
   "source": [
    "#### Exercise 2. \n",
    "\n",
    "Write a loop that prints out a table of x and y where x is the input to your quadratic function and y is the output\n",
    "\n",
    "\n",
    "<pre>\n",
    "x         y\n",
    "-------------\n",
    "-10\n",
    "-9\n",
    "-8\n",
    "-7\n",
    "-6\n",
    "-5\n",
    "-4\n",
    "-3\n",
    "-2\n",
    "-1\n",
    "0\n",
    "1\n",
    "2\n",
    "3\n",
    "4\n",
    "5\n",
    "6\n",
    "7\n",
    "8\n",
    "9\n",
    "10\n",
    "</pre>"
   ]
  },
  {
   "cell_type": "markdown",
   "metadata": {},
   "source": [
    "You want might to use range with a negative number in this:"
   ]
  },
  {
   "cell_type": "code",
   "execution_count": 15,
   "metadata": {},
   "outputs": [],
   "source": [
    "def increment_list(x , y, steps_per_unit):\n",
    "    l = range(x * steps_per_unit, y * steps_per_unit + 1)\n",
    "    return [x / steps_per_unit for x in l]"
   ]
  },
  {
   "cell_type": "code",
   "execution_count": 19,
   "metadata": {},
   "outputs": [
    {
     "name": "stdout",
     "output_type": "stream",
     "text": [
      "x       y\n",
      "---------\n",
      "2.0    -32.0\n",
      "2.05    -32.294999999999995\n",
      "2.1    -32.58\n",
      "2.15    -32.855\n",
      "2.2    -33.120000000000005\n",
      "2.25    -33.375\n",
      "2.3    -33.62\n",
      "2.35    -33.855\n",
      "2.4    -34.08\n",
      "2.45    -34.295\n",
      "2.5    -34.5\n",
      "2.55    -34.69499999999999\n",
      "2.6    -34.879999999999995\n",
      "2.65    -35.055\n",
      "2.7    -35.22\n",
      "2.75    -35.375\n",
      "2.8    -35.519999999999996\n",
      "2.85    -35.655\n",
      "2.9    -35.78\n",
      "2.95    -35.895\n",
      "3.0    -36.0\n"
     ]
    }
   ],
   "source": [
    "rangelist = increment_list(2,3,20)\n",
    "print(\"x       y\")\n",
    "print(\"---------\")\n",
    "for i in range(len(rangelist)):\n",
    "    print (rangelist[i], \"  \", quadratic1(rangelist[i]))"
   ]
  },
  {
   "cell_type": "markdown",
   "metadata": {},
   "source": [
    "### Exercise 3.\n",
    "\n",
    "Write a function to find the interval in which the value of y flips sign. \n",
    "\n",
    "Looking at table your function should find two intervals, from -1 to 0 and from 7 to 8"
   ]
  },
  {
   "cell_type": "markdown",
   "metadata": {},
   "source": []
  },
  {
   "cell_type": "code",
   "execution_count": 13,
   "metadata": {},
   "outputs": [
    {
     "data": {
      "text/plain": [
       "[2.0,\n",
       " 2.025,\n",
       " 2.05,\n",
       " 2.075,\n",
       " 2.1,\n",
       " 2.125,\n",
       " 2.15,\n",
       " 2.175,\n",
       " 2.2,\n",
       " 2.225,\n",
       " 2.25,\n",
       " 2.275,\n",
       " 2.3,\n",
       " 2.325,\n",
       " 2.35,\n",
       " 2.375,\n",
       " 2.4,\n",
       " 2.425,\n",
       " 2.45,\n",
       " 2.475,\n",
       " 2.5,\n",
       " 2.525,\n",
       " 2.55,\n",
       " 2.575,\n",
       " 2.6,\n",
       " 2.625,\n",
       " 2.65,\n",
       " 2.675,\n",
       " 2.7,\n",
       " 2.725,\n",
       " 2.75,\n",
       " 2.775,\n",
       " 2.8,\n",
       " 2.825,\n",
       " 2.85,\n",
       " 2.875,\n",
       " 2.9,\n",
       " 2.925,\n",
       " 2.95,\n",
       " 2.975,\n",
       " 3.0]"
      ]
     },
     "execution_count": 13,
     "metadata": {},
     "output_type": "execute_result"
    }
   ],
   "source": [
    "increment_list(2,3,40)"
   ]
  },
  {
   "cell_type": "markdown",
   "metadata": {},
   "source": []
  },
  {
   "cell_type": "code",
   "execution_count": 14,
   "metadata": {},
   "outputs": [
    {
     "name": "stdout",
     "output_type": "stream",
     "text": [
      "-10    328\n",
      "-9    276\n",
      "-8    228\n",
      "-7    184\n",
      "-6    144\n",
      "-5    108\n",
      "-4    76\n",
      "-3    48\n",
      "-2    24\n",
      "-1    4 *\n",
      "0    -12\n",
      "1    -24\n",
      "2    -32\n",
      "3    -36\n",
      "4    -36\n",
      "5    -32\n",
      "6    -24\n",
      "7    -12\n",
      "8    4\n",
      "9    24\n"
     ]
    }
   ],
   "source": [
    "descending = True\n",
    "correct_value = []\n",
    "for i in list(range(-10,10)):\n",
    "    if quadratic1(i) == correct_value:\n",
    "        print(i, \"  \", quadratic1(i), \"*\")\n",
    "    if abs(quadratic1(i)) < abs(quadratic1(i+1)) and descending == True:\n",
    "        print(i, \"  \", quadratic1(i), \"*\")\n",
    "        descending = False\n",
    "        correct_value.append(quadratic1(i))\n",
    "    else:\n",
    "        print(i, \"  \", quadratic1(i))"
   ]
  },
  {
   "cell_type": "code",
   "execution_count": 22,
   "metadata": {},
   "outputs": [
    {
     "name": "stdout",
     "output_type": "stream",
     "text": [
      "-10    328\n",
      "-9    276\n",
      "-8    228\n",
      "-7    184\n",
      "-6    144\n",
      "-5    108\n",
      "-4    76\n",
      "-3    48\n",
      "-2    24\n",
      "-1    4 *\n",
      "0    -12\n",
      "1    -24\n",
      "2    -32\n",
      "3    -36\n",
      "4    -36\n",
      "5    -32\n",
      "6    -24\n",
      "7    -12 *\n",
      "8    4\n",
      "9    24\n"
     ]
    }
   ],
   "source": [
    "closest_values = []\n",
    "for i in list(range(-10,10)):\n",
    "    i_value = quadratic1(i)\n",
    "    iplusone_value = quadratic1(i + 1)\n",
    "\n",
    "    if i_value > 0 and iplusone_value < 0:\n",
    "        print(i, \"  \", i_value, \"*\")\n",
    "\n",
    "    elif i_value < 0 and iplusone_value > 0:\n",
    "        print(i, \"  \", i_value, \"*\")\n",
    "   \n",
    "\n",
    "    else:\n",
    "        print(i, \"  \", i_value)"
   ]
  },
  {
   "cell_type": "code",
   "execution_count": null,
   "metadata": {},
   "outputs": [],
   "source": []
  },
  {
   "cell_type": "code",
   "execution_count": null,
   "metadata": {},
   "outputs": [],
   "source": []
  },
  {
   "cell_type": "code",
   "execution_count": null,
   "metadata": {},
   "outputs": [],
   "source": []
  },
  {
   "cell_type": "code",
   "execution_count": null,
   "metadata": {},
   "outputs": [],
   "source": []
  },
  {
   "cell_type": "code",
   "execution_count": null,
   "metadata": {},
   "outputs": [],
   "source": []
  },
  {
   "cell_type": "markdown",
   "metadata": {},
   "source": [
    "### Exercise 4.\n",
    "\n",
    "Zoom in on selected intervals to get a better approximation the quadratic solution.\n",
    "\n",
    "For example in above exercises we can see that one of the solutions is between -1 and 0. Lets now calculate the value of y at -1, -0.95, -0.9,..., -0.1, -0.05, 0\n",
    "\n",
    "You need to be able to generate a list of values for x. The usual python function *range* only works for integers, so use the function below. You don't need to understand the syntax, just what the inputs and outputs are."
   ]
  },
  {
   "cell_type": "code",
   "execution_count": 11,
   "metadata": {},
   "outputs": [],
   "source": [
    "def increment_list(x , y, steps_per_unit):\n",
    "    l = range(x * steps_per_unit, y * steps_per_unit + 1)\n",
    "    return [x / steps_per_unit for x in l]"
   ]
  },
  {
   "cell_type": "code",
   "execution_count": 10,
   "metadata": {},
   "outputs": [
    {
     "data": {
      "text/plain": [
       "[2.0, 2.1, 2.2, 2.3, 2.4, 2.5, 2.6, 2.7, 2.8, 2.9, 3.0]"
      ]
     },
     "execution_count": 10,
     "metadata": {},
     "output_type": "execute_result"
    }
   ],
   "source": [
    "increment_list(2,3,10)"
   ]
  },
  {
   "cell_type": "code",
   "execution_count": 7,
   "metadata": {},
   "outputs": [
    {
     "data": {
      "text/plain": [
       "[2.0,\n",
       " 2.05,\n",
       " 2.1,\n",
       " 2.15,\n",
       " 2.2,\n",
       " 2.25,\n",
       " 2.3,\n",
       " 2.35,\n",
       " 2.4,\n",
       " 2.45,\n",
       " 2.5,\n",
       " 2.55,\n",
       " 2.6,\n",
       " 2.65,\n",
       " 2.7,\n",
       " 2.75,\n",
       " 2.8,\n",
       " 2.85,\n",
       " 2.9,\n",
       " 2.95,\n",
       " 3.0]"
      ]
     },
     "execution_count": 7,
     "metadata": {},
     "output_type": "execute_result"
    }
   ],
   "source": [
    "increment_list(2,3,20)"
   ]
  },
  {
   "cell_type": "markdown",
   "metadata": {},
   "source": [
    "So now you can generate the new more refined tables of x's and y's to find where y flips sign to within an accuracy of 0.05.\n",
    "\n",
    "Print out a table in same format as you did above when you ran it for x between -10 and 10"
   ]
  },
  {
   "cell_type": "markdown",
   "metadata": {},
   "source": []
  },
  {
   "cell_type": "code",
   "execution_count": 10,
   "metadata": {},
   "outputs": [
    {
     "data": {
      "text/plain": [
       "[1.0, 1.1, 1.2, 1.3, 1.4, 1.5, 1.6, 1.7, 1.8, 1.9, 2.0]"
      ]
     },
     "execution_count": 10,
     "metadata": {},
     "output_type": "execute_result"
    }
   ],
   "source": [
    "increment_list(1,2,10)"
   ]
  },
  {
   "cell_type": "code",
   "execution_count": 36,
   "metadata": {},
   "outputs": [
    {
     "name": "stdout",
     "output_type": "stream",
     "text": [
      "x       y\n",
      "---------\n",
      "-1.0    4.0\n",
      "-0.95    3.1049999999999986\n",
      "-0.9    2.219999999999999\n",
      "-0.85    1.3450000000000006\n",
      "-0.8    0.4800000000000004\n",
      "-0.75    -0.375\n",
      "-0.7    -1.2200000000000006\n",
      "-0.65    -2.0549999999999997\n",
      "-0.6    -2.879999999999999\n",
      "-0.55    -3.6949999999999985\n",
      "-0.5    -4.5\n",
      "-0.45    -5.295\n",
      "-0.4    -6.079999999999999\n",
      "-0.35    -6.855\n",
      "-0.3    -7.62\n",
      "-0.25    -8.375\n",
      "-0.2    -9.12\n",
      "-0.15    -9.855\n",
      "-0.1    -10.58\n",
      "-0.05    -11.295\n",
      "0.0    -12.0\n",
      "x       y\n",
      "---------\n",
      "7.0    -12.0\n",
      "7.05    -11.295000000000002\n",
      "7.1    -10.579999999999998\n",
      "7.15    -9.855000000000004\n",
      "7.2    -9.11999999999999\n",
      "7.25    -8.375\n",
      "7.3    -7.6200000000000045\n",
      "7.35    -6.855000000000004\n",
      "7.4    -6.079999999999998\n",
      "7.45    -5.2949999999999875\n",
      "7.5    -4.5\n",
      "7.55    -3.6950000000000074\n",
      "7.6    -2.8799999999999955\n",
      "7.65    -2.0549999999999926\n",
      "7.7    -1.2199999999999847\n",
      "7.75    -0.375\n",
      "7.8    0.47999999999998977\n",
      "7.85    1.3449999999999989\n",
      "7.9    2.219999999999999\n",
      "7.95    3.105000000000004\n",
      "8.0    4.0\n"
     ]
    }
   ],
   "source": [
    "values = []\n",
    "for i in list(range(-10,10)):\n",
    "    i_value = quadratic1(i)\n",
    "    iplusone_value = quadratic1(i + 1)\n",
    "\n",
    "    if i_value > 0 and iplusone_value < 0:\n",
    "        values.append(i)\n",
    "        values.append(i+1)  \n",
    "    elif i_value < 0 and iplusone_value > 0:\n",
    "        values.append(i)\n",
    "        values.append(i+1)  \n",
    "    else:\n",
    "        pass\n",
    "\n",
    "for i in range(len(values) // 2):\n",
    "    rangelist = increment_list(values[i*2],values[(i*2)+1],20)\n",
    "    print(\"x       y\")\n",
    "    print(\"---------\")\n",
    "    for i in range(len(rangelist)):\n",
    "        print (rangelist[i], \"  \", quadratic1(rangelist[i]))"
   ]
  },
  {
   "cell_type": "code",
   "execution_count": 30,
   "metadata": {},
   "outputs": [
    {
     "name": "stdout",
     "output_type": "stream",
     "text": [
      "2.0\n"
     ]
    }
   ],
   "source": [
    "print(len(values) / 2)"
   ]
  },
  {
   "cell_type": "code",
   "execution_count": null,
   "metadata": {},
   "outputs": [],
   "source": []
  }
 ],
 "metadata": {
  "kernelspec": {
   "display_name": "Python 3",
   "language": "python",
   "name": "python3"
  },
  "language_info": {
   "codemirror_mode": {
    "name": "ipython",
    "version": 3
   },
   "file_extension": ".py",
   "mimetype": "text/x-python",
   "name": "python",
   "nbconvert_exporter": "python",
   "pygments_lexer": "ipython3",
   "version": "3.10.13"
  }
 },
 "nbformat": 4,
 "nbformat_minor": 2
}
