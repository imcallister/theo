{
 "cells": [
  {
   "cell_type": "markdown",
   "metadata": {},
   "source": [
    "### Solving quadratic equations"
   ]
  },
  {
   "cell_type": "markdown",
   "metadata": {},
   "source": [
    "To multiple numbers in python use the * operator"
   ]
  },
  {
   "cell_type": "code",
   "execution_count": 5,
   "metadata": {},
   "outputs": [
    {
     "data": {
      "text/plain": [
       "48"
      ]
     },
     "execution_count": 5,
     "metadata": {},
     "output_type": "execute_result"
    }
   ],
   "source": [
    "4 * 12"
   ]
  },
  {
   "cell_type": "markdown",
   "metadata": {},
   "source": [
    "In python there is an operator ** that will raise a number to whatever power you want. So x to the power of y is calculated as x ** y"
   ]
  },
  {
   "cell_type": "code",
   "execution_count": 6,
   "metadata": {},
   "outputs": [
    {
     "data": {
      "text/plain": [
       "16"
      ]
     },
     "execution_count": 6,
     "metadata": {},
     "output_type": "execute_result"
    }
   ],
   "source": [
    "4 ** 2"
   ]
  },
  {
   "cell_type": "code",
   "execution_count": 7,
   "metadata": {},
   "outputs": [
    {
     "data": {
      "text/plain": [
       "32"
      ]
     },
     "execution_count": 7,
     "metadata": {},
     "output_type": "execute_result"
    }
   ],
   "source": [
    "2 ** 5"
   ]
  },
  {
   "cell_type": "code",
   "execution_count": 8,
   "metadata": {},
   "outputs": [
    {
     "data": {
      "text/plain": [
       "2.25"
      ]
     },
     "execution_count": 8,
     "metadata": {},
     "output_type": "execute_result"
    }
   ],
   "source": [
    "1.5 ** 2"
   ]
  },
  {
   "cell_type": "markdown",
   "metadata": {},
   "source": [
    "#### Exercise 1. \n",
    "\n",
    "Write a function called quadratic1 that has an input x and returns the value of the quadratic:\n",
    "\n",
    "$2x^2 - 14x -12$"
   ]
  },
  {
   "cell_type": "code",
   "execution_count": 2,
   "metadata": {
    "metadata": {}
   },
   "outputs": [],
   "source": [
    "def quadratic1(x):\n",
    "    output = 2*(x**2) - (14*x) - (12)\n",
    "    return output"
   ]
  },
  {
   "cell_type": "code",
   "execution_count": null,
   "metadata": {},
   "outputs": [],
   "source": []
  },
  {
   "cell_type": "markdown",
   "metadata": {},
   "source": [
    "#### Exercise 2. \n",
    "\n",
    "Write a loop that prints out a table of x and y where x is the input to your quadratic function and y is the output\n",
    "\n",
    "\n",
    "<pre>\n",
    "x         y\n",
    "-------------\n",
    "-10\n",
    "-9\n",
    "-8\n",
    "-7\n",
    "-6\n",
    "-5\n",
    "-4\n",
    "-3\n",
    "-2\n",
    "-1\n",
    "0\n",
    "1\n",
    "2\n",
    "3\n",
    "4\n",
    "5\n",
    "6\n",
    "7\n",
    "8\n",
    "9\n",
    "10\n",
    "</pre>"
   ]
  },
  {
   "cell_type": "markdown",
   "metadata": {},
   "source": [
    "You want might to use range with a negative number in this:"
   ]
  },
  {
   "cell_type": "code",
   "execution_count": 10,
   "metadata": {},
   "outputs": [],
   "source": [
    "def increment_list(x , y, steps_per_unit):\n",
    "    l = range(x * steps_per_unit, y * steps_per_unit + 1)\n",
    "    return [x / steps_per_unit for x in l]"
   ]
  },
  {
   "cell_type": "code",
   "execution_count": null,
   "metadata": {},
   "outputs": [],
   "source": []
  },
  {
   "cell_type": "code",
   "execution_count": 11,
   "metadata": {},
   "outputs": [
    {
     "name": "stdout",
     "output_type": "stream",
     "text": [
      "x       y\n",
      "---------\n",
      "2.0    -32.0\n",
      "2.05    -32.294999999999995\n",
      "2.1    -32.58\n",
      "2.15    -32.855\n",
      "2.2    -33.120000000000005\n",
      "2.25    -33.375\n",
      "2.3    -33.62\n",
      "2.35    -33.855\n",
      "2.4    -34.08\n",
      "2.45    -34.295\n",
      "2.5    -34.5\n",
      "2.55    -34.69499999999999\n",
      "2.6    -34.879999999999995\n",
      "2.65    -35.055\n",
      "2.7    -35.22\n",
      "2.75    -35.375\n",
      "2.8    -35.519999999999996\n",
      "2.85    -35.655\n",
      "2.9    -35.78\n",
      "2.95    -35.895\n",
      "3.0    -36.0\n"
     ]
    }
   ],
   "source": [
    "rangelist = increment_list(2,3,20)\n",
    "print(\"x       y\")\n",
    "print(\"---------\")\n",
    "for i in range(len(rangelist)):\n",
    "    print (rangelist[i], \"  \", quadratic1(rangelist[i]))"
   ]
  },
  {
   "cell_type": "markdown",
   "metadata": {},
   "source": [
    "### Exercise 3.\n",
    "\n",
    "Write a function to find the interval in which the value of y flips sign. \n",
    "\n",
    "Looking at table your function should find two intervals, from -1 to 0 and from 7 to 8"
   ]
  },
  {
   "cell_type": "markdown",
   "metadata": {},
   "source": []
  },
  {
   "cell_type": "code",
   "execution_count": 12,
   "metadata": {},
   "outputs": [
    {
     "data": {
      "text/plain": [
       "[2.0,\n",
       " 2.025,\n",
       " 2.05,\n",
       " 2.075,\n",
       " 2.1,\n",
       " 2.125,\n",
       " 2.15,\n",
       " 2.175,\n",
       " 2.2,\n",
       " 2.225,\n",
       " 2.25,\n",
       " 2.275,\n",
       " 2.3,\n",
       " 2.325,\n",
       " 2.35,\n",
       " 2.375,\n",
       " 2.4,\n",
       " 2.425,\n",
       " 2.45,\n",
       " 2.475,\n",
       " 2.5,\n",
       " 2.525,\n",
       " 2.55,\n",
       " 2.575,\n",
       " 2.6,\n",
       " 2.625,\n",
       " 2.65,\n",
       " 2.675,\n",
       " 2.7,\n",
       " 2.725,\n",
       " 2.75,\n",
       " 2.775,\n",
       " 2.8,\n",
       " 2.825,\n",
       " 2.85,\n",
       " 2.875,\n",
       " 2.9,\n",
       " 2.925,\n",
       " 2.95,\n",
       " 2.975,\n",
       " 3.0]"
      ]
     },
     "execution_count": 12,
     "metadata": {},
     "output_type": "execute_result"
    }
   ],
   "source": [
    "increment_list(2,3,40)"
   ]
  },
  {
   "cell_type": "markdown",
   "metadata": {},
   "source": []
  },
  {
   "cell_type": "code",
   "execution_count": 13,
   "metadata": {},
   "outputs": [
    {
     "name": "stdout",
     "output_type": "stream",
     "text": [
      "-10    328\n",
      "-9    276\n",
      "-8    228\n",
      "-7    184\n",
      "-6    144\n",
      "-5    108\n",
      "-4    76\n",
      "-3    48\n",
      "-2    24\n",
      "-1    4 *\n",
      "0    -12\n",
      "1    -24\n",
      "2    -32\n",
      "3    -36\n",
      "4    -36\n",
      "5    -32\n",
      "6    -24\n",
      "7    -12\n",
      "8    4\n",
      "9    24\n"
     ]
    }
   ],
   "source": [
    "descending = True\n",
    "correct_value = []\n",
    "for i in list(range(-10,10)):\n",
    "    if quadratic1(i) == correct_value:\n",
    "        print(i, \"  \", quadratic1(i), \"*\")\n",
    "    if abs(quadratic1(i)) < abs(quadratic1(i+1)) and descending == True:\n",
    "        print(i, \"  \", quadratic1(i), \"*\")\n",
    "        descending = False\n",
    "        correct_value.append(quadratic1(i))\n",
    "    else:\n",
    "        print(i, \"  \", quadratic1(i))"
   ]
  },
  {
   "cell_type": "code",
   "execution_count": 14,
   "metadata": {},
   "outputs": [
    {
     "name": "stdout",
     "output_type": "stream",
     "text": [
      "-10    328\n",
      "-9    276\n",
      "-8    228\n",
      "-7    184\n",
      "-6    144\n",
      "-5    108\n",
      "-4    76\n",
      "-3    48\n",
      "-2    24\n",
      "-1    4 *\n",
      "0    -12\n",
      "1    -24\n",
      "2    -32\n",
      "3    -36\n",
      "4    -36\n",
      "5    -32\n",
      "6    -24\n",
      "7    -12 *\n",
      "8    4\n",
      "9    24\n"
     ]
    }
   ],
   "source": [
    "closest_values = []\n",
    "for i in list(range(-10,10)):\n",
    "    i_value = quadratic1(i)\n",
    "    iplusone_value = quadratic1(i + 1)\n",
    "\n",
    "    if i_value > 0 and iplusone_value < 0:\n",
    "        print(i, \"  \", i_value, \"*\")\n",
    "\n",
    "    elif i_value < 0 and iplusone_value > 0:\n",
    "        print(i, \"  \", i_value, \"*\")\n",
    "   \n",
    "\n",
    "    else:\n",
    "        print(i, \"  \", i_value)"
   ]
  },
  {
   "cell_type": "code",
   "execution_count": null,
   "metadata": {},
   "outputs": [],
   "source": []
  },
  {
   "cell_type": "code",
   "execution_count": null,
   "metadata": {},
   "outputs": [],
   "source": []
  },
  {
   "cell_type": "code",
   "execution_count": null,
   "metadata": {},
   "outputs": [],
   "source": []
  },
  {
   "cell_type": "code",
   "execution_count": null,
   "metadata": {},
   "outputs": [],
   "source": []
  },
  {
   "cell_type": "code",
   "execution_count": null,
   "metadata": {},
   "outputs": [],
   "source": []
  },
  {
   "cell_type": "markdown",
   "metadata": {},
   "source": [
    "### Exercise 4.\n",
    "\n",
    "Zoom in on selected intervals to get a better approximation the quadratic solution.\n",
    "\n",
    "For example in above exercises we can see that one of the solutions is between -1 and 0. Lets now calculate the value of y at -1, -0.95, -0.9,..., -0.1, -0.05, 0\n",
    "\n",
    "You need to be able to generate a list of values for x. The usual python function *range* only works for integers, so use the function below. You don't need to understand the syntax, just what the inputs and outputs are."
   ]
  },
  {
   "cell_type": "code",
   "execution_count": 6,
   "metadata": {
    "metadata": {}
   },
   "outputs": [],
   "source": [
    "def increment_list(x , y, steps_per_unit):\n",
    "    l = range(x * steps_per_unit, y * steps_per_unit + 1)\n",
    "    return [x / steps_per_unit for x in l]"
   ]
  },
  {
   "cell_type": "code",
   "execution_count": 16,
   "metadata": {},
   "outputs": [
    {
     "data": {
      "text/plain": [
       "[2.0, 2.1, 2.2, 2.3, 2.4, 2.5, 2.6, 2.7, 2.8, 2.9, 3.0]"
      ]
     },
     "execution_count": 16,
     "metadata": {},
     "output_type": "execute_result"
    }
   ],
   "source": [
    "increment_list(2,3,10)"
   ]
  },
  {
   "cell_type": "code",
   "execution_count": 17,
   "metadata": {},
   "outputs": [
    {
     "data": {
      "text/plain": [
       "[2.0,\n",
       " 2.05,\n",
       " 2.1,\n",
       " 2.15,\n",
       " 2.2,\n",
       " 2.25,\n",
       " 2.3,\n",
       " 2.35,\n",
       " 2.4,\n",
       " 2.45,\n",
       " 2.5,\n",
       " 2.55,\n",
       " 2.6,\n",
       " 2.65,\n",
       " 2.7,\n",
       " 2.75,\n",
       " 2.8,\n",
       " 2.85,\n",
       " 2.9,\n",
       " 2.95,\n",
       " 3.0]"
      ]
     },
     "execution_count": 17,
     "metadata": {},
     "output_type": "execute_result"
    }
   ],
   "source": [
    "increment_list(2,3,20)"
   ]
  },
  {
   "cell_type": "markdown",
   "metadata": {},
   "source": [
    "So now you can generate the new more refined tables of x's and y's to find where y flips sign to within an accuracy of 0.05.\n",
    "\n",
    "Print out a table in same format as you did above when you ran it for x between -10 and 10"
   ]
  },
  {
   "cell_type": "markdown",
   "metadata": {},
   "source": []
  },
  {
   "cell_type": "code",
   "execution_count": null,
   "metadata": {},
   "outputs": [
    {
     "data": {
      "text/plain": [
       "[1.0, 1.1, 1.2, 1.3, 1.4, 1.5, 1.6, 1.7, 1.8, 1.9, 2.0]"
      ]
     },
     "execution_count": 10,
     "metadata": {},
     "output_type": "execute_result"
    }
   ],
   "source": [
    "increment_list(1,2,10)"
   ]
  },
  {
   "cell_type": "code",
   "execution_count": 3,
   "metadata": {
    "metadata": {}
   },
   "outputs": [],
   "source": [
    "\n",
    "values = []\n",
    "for i in list(range(-10,10)):\n",
    "    i_value = quadratic1(i)\n",
    "    iplusone_value = quadratic1(i + 1)\n",
    "\n",
    "    if i_value > 0 and iplusone_value < 0:\n",
    "        values.append(i)\n",
    "        values.append(i+1)  \n",
    "    elif i_value < 0 and iplusone_value > 0:\n",
    "        values.append(i)\n",
    "        values.append(i+1)  \n",
    "    else:\n",
    "        pass\n",
    "values2 = values\n"
   ]
  },
  {
   "cell_type": "code",
   "execution_count": 8,
   "metadata": {
    "metadata": {}
   },
   "outputs": [
    {
     "data": {
      "text/plain": [
       "[-1, 0, 7, 8]"
      ]
     },
     "execution_count": 8,
     "metadata": {},
     "output_type": "execute_result"
    }
   ],
   "source": [
    "values2"
   ]
  },
  {
   "cell_type": "code",
   "execution_count": 14,
   "metadata": {
    "metadata": {}
   },
   "outputs": [],
   "source": [
    "def split(a,b):\n",
    "    x_range = increment_list(a,b,20)\n",
    "    y_range = []\n",
    "    for i in range(len(x_range)):\n",
    "        current_input = x_range[i]\n",
    "        y_range.append(quadratic1(current_input))\n",
    "    return x_range, y_range"
   ]
  },
  {
   "cell_type": "code",
   "execution_count": 24,
   "metadata": {
    "metadata": {}
   },
   "outputs": [],
   "source": [
    "new_range = split(0,0)\n",
    "\n",
    "def find_solutions(x_span, y_span):\n",
    "\n",
    "    for i in range(len(y_span) - 1):\n",
    "        current_y = y_span[i]\n",
    "        next_y = y_span[i+1]\n",
    "        if current_y > 0 and next_y < 0:\n",
    "            target_value = i\n",
    "        if current_y < 0 and next_y > 0:   \n",
    "            target_value = i\n",
    "    a = x_span[target_value]\n",
    "    b = x_span[target_value + 1]\n",
    "    return a,b\n"
   ]
  },
  {
   "cell_type": "code",
   "execution_count": 16,
   "metadata": {
    "metadata": {}
   },
   "outputs": [],
   "source": [
    "x_range, y_range = split(-1,0)"
   ]
  },
  {
   "cell_type": "code",
   "execution_count": 26,
   "metadata": {
    "metadata": {}
   },
   "outputs": [
    {
     "data": {
      "text/plain": [
       "(-0.8, -0.75)"
      ]
     },
     "execution_count": 26,
     "metadata": {},
     "output_type": "execute_result"
    }
   ],
   "source": [
    "find_solutions(x_range, y_range)"
   ]
  },
  {
   "cell_type": "code",
   "execution_count": 7,
   "metadata": {
    "metadata": {}
   },
   "outputs": [
    {
     "ename": "IndexError",
     "evalue": "list index out of range",
     "output_type": "error",
     "traceback": [
      "\u001b[0;31m---------------------------------------------------------------------------\u001b[0m",
      "\u001b[0;31mIndexError\u001b[0m                                Traceback (most recent call last)",
      "Cell \u001b[0;32mIn[7], line 1\u001b[0m\n\u001b[0;32m----> 1\u001b[0m rangelist \u001b[38;5;241m=\u001b[39m increment_list(\u001b[43mvalues2\u001b[49m\u001b[43m[\u001b[49m\u001b[43mi\u001b[49m\u001b[38;5;241;43m*\u001b[39;49m\u001b[38;5;241;43m2\u001b[39;49m\u001b[43m]\u001b[49m,values2[(i\u001b[38;5;241m*\u001b[39m\u001b[38;5;241m2\u001b[39m)\u001b[38;5;241m+\u001b[39m\u001b[38;5;241m1\u001b[39m],\u001b[38;5;241m20\u001b[39m)\n",
      "\u001b[0;31mIndexError\u001b[0m: list index out of range"
     ]
    }
   ],
   "source": [
    "rangelist = increment_list(values2[i*2],values2[(i*2)+1],20)\n"
   ]
  },
  {
   "cell_type": "code",
   "execution_count": null,
   "metadata": {},
   "outputs": [],
   "source": [
    "for i in range (3):\n",
    "    for i in range(len(values2) // 2):\n",
    "        print(\"x       y\")\n",
    "        print(\"---------\") \n",
    "        for i in range(len(rangelist)):\n",
    "            print (rangelist[i], \"  \", quadratic1(rangelist[i]))\n",
    "            if rangelist[i] > 0 and rangelist[i+1] < 0:\n",
    "                rangelist[i].append(i)\n",
    "                [rangelist].append(i+1)  \n",
    "            elif rangelist[i] < 0 and rangelist[i+1] > 0:\n",
    "                rangelist.append(i)\n",
    "                rangelist.append(i+1)  \n"
   ]
  },
  {
   "cell_type": "code",
   "execution_count": null,
   "metadata": {},
   "outputs": [
    {
     "name": "stdout",
     "output_type": "stream",
     "text": [
      "2.0\n"
     ]
    }
   ],
   "source": [
    "print(len(values) / 2)"
   ]
  },
  {
   "cell_type": "code",
   "execution_count": null,
   "metadata": {},
   "outputs": [],
   "source": []
  }
 ],
 "metadata": {
  "kernelspec": {
   "display_name": "Python 3",
   "language": "python",
   "name": "python3"
  },
  "language_info": {
   "codemirror_mode": {
    "name": "ipython",
    "version": 3
   },
   "file_extension": ".py",
   "mimetype": "text/x-python",
   "name": "python",
   "nbconvert_exporter": "python",
   "pygments_lexer": "ipython3",
   "version": "3.10.13"
  }
 },
 "nbformat": 4,
 "nbformat_minor": 2
}
