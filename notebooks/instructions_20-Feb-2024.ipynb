{
 "cells": [
  {
   "cell_type": "markdown",
   "metadata": {},
   "source": [
    "### Last step on pong\n",
    "\n",
    "- Look at gnop.py. Confirm that it works just look pong.py\n",
    "\n",
    "- Compare pong.py and gnop.py side by side to see how I moved code around. The main() function in gnop.py is much smaller but the code has been moved into classes.\n",
    "\n",
    "- Be prepared to discuss what you like/dislike about how pong and gnop do the same thing"
   ]
  },
  {
   "cell_type": "markdown",
   "metadata": {},
   "source": [
    "### Starting on animation\n",
    "\n",
    "https://www.techwithtim.net/tutorials/game-development-with-python/pygame-tutorial/pygame-animation\n",
    "\n",
    "This looks like a decent tutorial on having the character be animated. It uses what we discussed of having multiple images of the sprite and rotating through them to give the sense of the sprite walking\n",
    "\n",
    "Do not just download the code. You learn much better when you type the code yourself. So create a new file for your game and follow along with the the tutorial writing the code as you go.\n",
    "\n",
    "Note that he writes his pygame code a little differently. Small things like not doing *import pygame as pg* so that he writes out 'pygame' every where that you would have used 'pg'.\n",
    "And it looks like he uses pg.time.delay instead of clock.tick. I assume they do equivalent things.\n",
    "\n"
   ]
  },
  {
   "cell_type": "markdown",
   "metadata": {},
   "source": []
  }
 ],
 "metadata": {
  "language_info": {
   "name": "python"
  }
 },
 "nbformat": 4,
 "nbformat_minor": 2
}
