{
 "cells": [
  {
   "cell_type": "markdown",
   "metadata": {},
   "source": [
    "## Scope\n",
    "\n",
    "Examples of what can happen"
   ]
  },
  {
   "cell_type": "markdown",
   "metadata": {},
   "source": [
    "#### Example 1\n",
    "\n",
    "Look at the code below and predict what number will be printed out at each step\\\n",
    "a) x is ? \\\n",
    "b) x is ? \\\n",
    "c) x is ? \\\n",
    "d) x is ? \n"
   ]
  },
  {
   "cell_type": "code",
   "execution_count": null,
   "metadata": {},
   "outputs": [],
   "source": [
    "def add_one(x):\n",
    "    print(f'b) x is {x}')\n",
    "    x = x + 1\n",
    "    print(f'c) x is {x}')\n",
    "\n",
    "\n",
    "x = 7\n",
    "print(f'a) x is {x}')\n",
    "add_one(x)\n",
    "print(f'd) x is {x}')\n"
   ]
  },
  {
   "cell_type": "markdown",
   "metadata": {},
   "source": [
    "#### Example 2\n",
    "\n",
    "Look at the code below and predict what number will be printed out at each step\\\n",
    "a) x is ? \\\n",
    "b) x is ? \\\n",
    "c) x is ? \\\n",
    "d) x is ? "
   ]
  },
  {
   "cell_type": "code",
   "execution_count": null,
   "metadata": {},
   "outputs": [],
   "source": [
    "def add_one(a):\n",
    "    print(f'b) a is {a}')\n",
    "    a = a + 1\n",
    "    print(f'c) a is {a}')\n",
    "\n",
    "\n",
    "x = 7\n",
    "print(f'a) x is {x}')\n",
    "add_one(x)\n",
    "print(f'd) x is {x}')\n"
   ]
  },
  {
   "cell_type": "markdown",
   "metadata": {},
   "source": [
    "#### Example 3\n",
    "\n",
    "Look at the code below and predict what number will be printed out at each step\\\n",
    "a) y is ? \\\n",
    "b) y is ? \\\n",
    "c) y is ? \\\n",
    "d) y is ? "
   ]
  },
  {
   "cell_type": "code",
   "execution_count": null,
   "metadata": {},
   "outputs": [],
   "source": [
    "def add_one(y):\n",
    "    print(f'b) y is {y}')\n",
    "    y = y + 1\n",
    "    print(f'c) y is {y}')\n",
    "\n",
    "\n",
    "y = 10\n",
    "print(f'a) y is {y}')\n",
    "add_one(18)\n",
    "print(f'd) y is {y}')\n"
   ]
  },
  {
   "cell_type": "markdown",
   "metadata": {},
   "source": [
    "#### Example 4\n",
    "\n",
    "Look at the code below and predict what number will be printed out at each step\\\n",
    "a) z is ? \\\n",
    "b) z is ? \\\n",
    "c) z is ? \\\n",
    "d) z is ? "
   ]
  },
  {
   "cell_type": "code",
   "execution_count": null,
   "metadata": {},
   "outputs": [],
   "source": [
    "def add_one():\n",
    "    print(f'b) z is {z}')\n",
    "    z = z + 1\n",
    "    print(f'c) z is {z}')\n",
    "\n",
    "\n",
    "z = 10\n",
    "print(f'a) z is {z}')\n",
    "add_one()\n",
    "print(f'd) z is {z}')\n"
   ]
  },
  {
   "cell_type": "markdown",
   "metadata": {},
   "source": [
    "### LEGB\n",
    "\n",
    "Python allows you to have different variables with the same name. In our first example we actually had two different *x* variables.\n",
    "\n",
    "It has an inbuilt rule to figure out which variable you mean. It will look initially just within the scope of the function (\"Local\") and if it finds a match there then it assumes that what you mean. If it doesn't find something it looks outside of the function (\"Global\").\n",
    "\n",
    "\"Enclosed\" is too complicated for now!\n",
    "\n",
    "- L: Local\n",
    "- E: Enclosed\n",
    "- G: Global\n",
    "- B: Built-in\n",
    "\n",
    "It example 1 it found a local *x* which is different from the *x* outside of the function -- two *x*'s referring to different variables\n",
    "\n",
    "In example 3 it has an input of 18 and it creates a variable *y* equal to 18 -- this *y* is different than the *y* that was set equal to 10\n",
    "\n",
    "In example 4 it cannot find a local variable *z* so it looks outside of the function and finds the global *z*. But python will not allow you to change the \"global\" variable -- it's too dangerous, especially as the programs get bigger, to have functions changing global variables. Some tiny function deep inside your code might unexpectedly change an important variable.\n",
    "\n",
    "Just because you can do something (use the same name for different variables) doesn't mean you should.\n",
    "\n",
    "Example 2 is an example of how you should write this code. If you have two different variables, name them something different. It makes things clearer\n",
    "\n"
   ]
  },
  {
   "cell_type": "markdown",
   "metadata": {},
   "source": [
    "### Now that you think you understand things....\n",
    "\n",
    "Look at the code below and predict what number will be printed out at each step\\\n",
    "a) l1 is ? \\\n",
    "b) l is ? \\\n",
    "c) l is ? \\\n",
    "d) l1 is ? "
   ]
  },
  {
   "cell_type": "code",
   "execution_count": 7,
   "metadata": {},
   "outputs": [
    {
     "name": "stdout",
     "output_type": "stream",
     "text": [
      "a) l1 is [1, 2, 3]\n",
      "b) l is [1, 2, 3]\n",
      "c) l is [1, 2, 3, 99]\n",
      "d) l1 is [1, 2, 3, 99]\n"
     ]
    }
   ],
   "source": [
    "def append_to_list(l):\n",
    "    print(f'b) l is {l}')\n",
    "    l.append(99)\n",
    "    print(f'c) l is {l}')\n",
    "    return l\n",
    "\n",
    "l1 = [1,2,3]\n",
    "print(f'a) l1 is {l1}')\n",
    "append_to_list(l1)\n",
    "print(f'd) l1 is {l1}')\n"
   ]
  },
  {
   "cell_type": "code",
   "execution_count": null,
   "metadata": {},
   "outputs": [],
   "source": []
  }
 ],
 "metadata": {
  "kernelspec": {
   "display_name": "Python 3",
   "language": "python",
   "name": "python3"
  },
  "language_info": {
   "codemirror_mode": {
    "name": "ipython",
    "version": 3
   },
   "file_extension": ".py",
   "mimetype": "text/x-python",
   "name": "python",
   "nbconvert_exporter": "python",
   "pygments_lexer": "ipython3",
   "version": "3.11.6"
  }
 },
 "nbformat": 4,
 "nbformat_minor": 2
}
