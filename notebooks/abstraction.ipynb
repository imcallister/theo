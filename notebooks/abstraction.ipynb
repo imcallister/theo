{
 "cells": [
  {
   "attachments": {},
   "cell_type": "markdown",
   "id": "668abade-e2b3-48a3-b48f-4c95c528ac7c",
   "metadata": {},
   "source": [
    "## Abstraction"
   ]
  },
  {
   "attachments": {},
   "cell_type": "markdown",
   "id": "dc37acdf-574f-498b-87c3-b01232bcac71",
   "metadata": {},
   "source": [
    "When you use someone else's code you want to know how to use it without necessarily caring how the code works.\n",
    "\n",
    "An example of this is the python module called turtle that lets you draw pictures even though you don't know how all the bits of code work. For the simplest pictures all you need to know is that you can create a *turtle* which can go forwards and backwards and turn itself around by any number of degrees. When it moves it leaves a line."
   ]
  },
  {
   "attachments": {},
   "cell_type": "markdown",
   "id": "7d0de9a4",
   "metadata": {},
   "source": [
    "### Turtle drawing"
   ]
  },
  {
   "attachments": {},
   "cell_type": "markdown",
   "id": "a24b76fc-d2f8-4e44-af12-0464fa7241ae",
   "metadata": {},
   "source": [
    "Load the code (module) that someone else wrote"
   ]
  },
  {
   "cell_type": "code",
   "execution_count": null,
   "id": "85f5aad7-4b57-4422-8662-d73eafaf0711",
   "metadata": {},
   "outputs": [],
   "source": [
    "import turtle"
   ]
  },
  {
   "attachments": {},
   "cell_type": "markdown",
   "id": "42dcfeeb-5208-4eb4-bb5e-865aa246cf9d",
   "metadata": {},
   "source": [
    "Make a *turtle*. This should open a new window that will be your canvas"
   ]
  },
  {
   "cell_type": "code",
   "execution_count": null,
   "id": "989ff668-c309-456d-98e4-1e24a14ca653",
   "metadata": {},
   "outputs": [],
   "source": [
    "greg = turtle.Turtle()"
   ]
  },
  {
   "attachments": {},
   "cell_type": "markdown",
   "id": "399f2e06-ea76-4759-bb63-6acdbed97551",
   "metadata": {},
   "source": [
    "Experiment moving around and drawing lines"
   ]
  },
  {
   "cell_type": "code",
   "execution_count": null,
   "id": "09d1200d-bf40-4001-87cb-416438d3e07b",
   "metadata": {},
   "outputs": [],
   "source": [
    "greg.forward(50)"
   ]
  },
  {
   "cell_type": "code",
   "execution_count": null,
   "id": "49a3b970-32c1-4882-84a6-f7e1dc3a2844",
   "metadata": {},
   "outputs": [],
   "source": [
    "greg.back(100)"
   ]
  },
  {
   "cell_type": "code",
   "execution_count": null,
   "id": "5888492c-33df-496b-997c-c8286eeb9a90",
   "metadata": {},
   "outputs": [],
   "source": [
    "greg.left(90)"
   ]
  },
  {
   "cell_type": "code",
   "execution_count": null,
   "id": "871ebe2a-153a-452d-be4a-bbc0d363759e",
   "metadata": {},
   "outputs": [],
   "source": [
    "greg.forward(200)"
   ]
  },
  {
   "attachments": {},
   "cell_type": "markdown",
   "id": "5eb16686-9871-451c-819c-86b26c80fe54",
   "metadata": {},
   "source": [
    "There are many other *properties* of the turtle to give you information about which way it is facing or what its (x,y) coordinates are"
   ]
  },
  {
   "cell_type": "code",
   "execution_count": null,
   "id": "c31d0ebd-d164-4c3e-8cc5-2469c3bf5475",
   "metadata": {},
   "outputs": [],
   "source": [
    "greg.heading()"
   ]
  },
  {
   "cell_type": "code",
   "execution_count": null,
   "id": "42431768-b7bf-49e7-b023-83f082810d25",
   "metadata": {},
   "outputs": [],
   "source": [
    "greg.position()"
   ]
  },
  {
   "attachments": {},
   "cell_type": "markdown",
   "id": "32061daa-5cde-47f8-bb72-928494af4241",
   "metadata": {},
   "source": [
    "You can tell it to go to a specific point"
   ]
  },
  {
   "cell_type": "code",
   "execution_count": null,
   "id": "2982c426-7559-45a1-a65e-e1d4e8af9bb1",
   "metadata": {},
   "outputs": [],
   "source": [
    "greg.goto(100,300)"
   ]
  },
  {
   "cell_type": "code",
   "execution_count": null,
   "id": "c42e5493-b770-4538-aef8-9b8eb4f8c505",
   "metadata": {},
   "outputs": [],
   "source": [
    "greg.position()"
   ]
  },
  {
   "attachments": {},
   "cell_type": "markdown",
   "id": "1b199c28-a10f-46ca-9aec-f7f157654c28",
   "metadata": {},
   "source": [
    "To move without drawing, tell it to lift the pen"
   ]
  },
  {
   "cell_type": "code",
   "execution_count": null,
   "id": "471de915-fa0f-4dac-af5d-2c45fa3fd4a3",
   "metadata": {},
   "outputs": [],
   "source": [
    "greg.penup()"
   ]
  },
  {
   "cell_type": "code",
   "execution_count": null,
   "id": "c2de0d0a-4766-4c3e-a98d-28caedf4e59b",
   "metadata": {},
   "outputs": [],
   "source": [
    "greg.goto(200,200)"
   ]
  },
  {
   "cell_type": "code",
   "execution_count": null,
   "id": "618da956-3daf-48fe-bd80-02984bc672eb",
   "metadata": {},
   "outputs": [],
   "source": [
    "greg.pendown()\n",
    "greg.forward(75)"
   ]
  },
  {
   "attachments": {},
   "cell_type": "markdown",
   "id": "b41360fc-714b-4c07-9fc3-b829d50b0a89",
   "metadata": {},
   "source": [
    "### Drawing shapes\n",
    "\n",
    "Now you know how to use turtle to draw. You don't know anything about the code behind the scenes but thats the point of abstraction"
   ]
  },
  {
   "cell_type": "code",
   "execution_count": null,
   "id": "2e32d67d-1def-45c2-907d-2abc01ea4e97",
   "metadata": {},
   "outputs": [],
   "source": [
    "greg.forward(200)\n",
    "greg.left(135)\n",
    "greg.forward(200)\n",
    "greg.left(135)\n",
    "greg.forward(200)\n",
    "greg.left(135)\n",
    "greg.forward(200)\n",
    "greg.left(135)\n",
    "greg.forward(200)\n",
    "greg.left(135)\n",
    "greg.forward(200)\n",
    "greg.left(135)\n",
    "greg.forward(200)\n",
    "greg.left(135)\n",
    "greg.forward(200)\n",
    "greg.left(135)\n",
    "\n",
    "greg.hideturtle()"
   ]
  },
  {
   "attachments": {},
   "cell_type": "markdown",
   "id": "a7228d9b-def0-4c1a-b264-1e9a8dbe69ba",
   "metadata": {},
   "source": [
    "#### DRY (Don't Repeat Yourself)\n",
    "\n",
    "An important principle of software design is that you shouldn't keep repeating the same code. The code above is an obvious example"
   ]
  },
  {
   "attachments": {},
   "cell_type": "markdown",
   "id": "c9e824fd-5c7d-43d0-899b-b802dd5751ec",
   "metadata": {},
   "source": [
    "#### Exercise 1\n",
    "\n",
    "Use a \"for-loop\" to rewrite the above and eliminate having the code say the same thing 8 times.\n",
    "\n",
    "Refer to the *building_blocks* notebook for reference on how for-loops work\n",
    "\n",
    "Clear the screen before running your new code"
   ]
  },
  {
   "cell_type": "code",
   "execution_count": null,
   "id": "b2941d41-68ee-4efc-b302-d59b6c798f1d",
   "metadata": {},
   "outputs": [],
   "source": [
    "for i in range (8)\n",
    "    greg.forward(200)\n",
    "    greg.left(135) \n",
    "\n",
    "greg.hideturtle()"
   ]
  },
  {
   "attachments": {},
   "cell_type": "markdown",
   "id": "44c1ab40-fa1c-4044-bb40-a1c2d35497d1",
   "metadata": {},
   "source": [
    "### Coloring -- Drawing a flower head"
   ]
  },
  {
   "cell_type": "code",
   "execution_count": null,
   "id": "5d32b8af-c6b2-461b-b4ca-403d281aec16",
   "metadata": {},
   "outputs": [],
   "source": [
    "greg.screen.clear()"
   ]
  },
  {
   "cell_type": "code",
   "execution_count": null,
   "id": "2e6277bd-6d9f-4c3d-8b74-d11c392d6f16",
   "metadata": {},
   "outputs": [],
   "source": [
    "greg.pencolor('red')\n",
    "greg.fillcolor('yellow')\n",
    "\n",
    "greg.begin_fill()\n",
    "\n",
    "greg.forward(200)\n",
    "greg.left(135)\n",
    "greg.forward(200)\n",
    "greg.left(135)\n",
    "greg.forward(200)\n",
    "greg.left(135)\n",
    "greg.forward(200)\n",
    "greg.left(135)\n",
    "greg.forward(200)\n",
    "greg.left(135)\n",
    "greg.forward(200)\n",
    "greg.left(135)\n",
    "greg.forward(200)\n",
    "greg.left(135)\n",
    "greg.forward(200)\n",
    "greg.left(135)\n",
    "\n",
    "greg.end_fill()\n",
    "greg.hideturtle()"
   ]
  },
  {
   "attachments": {},
   "cell_type": "markdown",
   "id": "67133921-4e9d-452b-a28d-3e47e2f7ac80",
   "metadata": {},
   "source": [
    "#### Exercise 2\n",
    "\n",
    "Update the code to eliminate the repetition"
   ]
  },
  {
   "cell_type": "code",
   "execution_count": null,
   "id": "0a5be529",
   "metadata": {},
   "outputs": [],
   "source": [
    "greg.screen.clear()"
   ]
  },
  {
   "attachments": {},
   "cell_type": "markdown",
   "id": "d7c80a2b-1dc5-4bb5-88ae-3ad72793bc99",
   "metadata": {},
   "source": [
    "#### Abstracting into functions\n",
    "\n",
    "You can use functions to wrap up code. A user of this function doesn't need to know details about how python determines if a number is a multiple of four.\n",
    "\n",
    "Note also that you make your code more readable by naming the functions so that they describe what they do"
   ]
  },
  {
   "cell_type": "code",
   "execution_count": 7,
   "id": "1660b233-2124-47ad-a140-b1e5212266bb",
   "metadata": {},
   "outputs": [],
   "source": [
    "def is_multiple_of_four(x):\n",
    "    if x % 4 == 0:\n",
    "        return True\n",
    "    else:\n",
    "        return False"
   ]
  },
  {
   "cell_type": "code",
   "execution_count": 8,
   "id": "8cff5f11-7750-4afa-bd76-0e0ae1b593fd",
   "metadata": {},
   "outputs": [
    {
     "data": {
      "text/plain": [
       "False"
      ]
     },
     "execution_count": 8,
     "metadata": {},
     "output_type": "execute_result"
    }
   ],
   "source": [
    "is_multiple_of_four(7)"
   ]
  },
  {
   "cell_type": "code",
   "execution_count": 12,
   "id": "1bb9f4de-bf7d-4373-8ff8-c3b9d3d2672d",
   "metadata": {},
   "outputs": [
    {
     "data": {
      "text/plain": [
       "False"
      ]
     },
     "execution_count": 12,
     "metadata": {},
     "output_type": "execute_result"
    }
   ],
   "source": [
    "is_multiple_of_four(5)"
   ]
  },
  {
   "attachments": {},
   "cell_type": "markdown",
   "id": "d1b3e648-9648-40ed-8cda-e5f71f48317e",
   "metadata": {},
   "source": [
    "You can also use functions to do an action. "
   ]
  },
  {
   "cell_type": "code",
   "execution_count": 14,
   "id": "ea371bc4-ff0b-4475-9d23-042962d8cb13",
   "metadata": {},
   "outputs": [],
   "source": [
    "def print_welcome_message(first_name, last_name):\n",
    "    print(f'Hi, {last_name}, {first_name}. Welcome to our functional abstraction exercises.')"
   ]
  },
  {
   "cell_type": "code",
   "execution_count": 16,
   "id": "a489334c-04e8-446e-ae87-87196b6ca1a2",
   "metadata": {},
   "outputs": [
    {
     "name": "stdout",
     "output_type": "stream",
     "text": [
      "Hi, McNevins, Babu. Welcome to our functional abstraction exercises.\n"
     ]
    }
   ],
   "source": [
    "print_welcome_message('Babu', 'McNevins')"
   ]
  },
  {
   "cell_type": "code",
   "execution_count": 15,
   "id": "0feaba00-1bf0-4360-8ee2-6d79b2890a80",
   "metadata": {},
   "outputs": [
    {
     "name": "stdout",
     "output_type": "stream",
     "text": [
      "Hi, Sanderson, Brandon. Welcome to our functional abstraction exercises.\n"
     ]
    }
   ],
   "source": [
    "print_welcome_message('Brandon', 'Sanderson')"
   ]
  },
  {
   "attachments": {},
   "cell_type": "markdown",
   "id": "925b8d35-d99d-4a5f-a932-fb151e6dbbb9",
   "metadata": {},
   "source": [
    "#### Exercise 3\n",
    "\n",
    "Write a function that will draw and color a flower head just as you did in Exercise 2. Add to the following stub function:"
   ]
  },
  {
   "cell_type": "code",
   "execution_count": null,
   "id": "9b4b3217-965d-4ba1-8234-3650aded58c4",
   "metadata": {},
   "outputs": [],
   "source": [
    "def draw_flower_head(turtle):\n",
    "    \n",
    "\n",
    "    return"
   ]
  },
  {
   "attachments": {},
   "cell_type": "markdown",
   "id": "6e16ac7c-8f64-466b-8e7f-47fed5ee7cdd",
   "metadata": {},
   "source": [
    "Note that when calling your function you give it the same turtle that you have been using already.\n",
    "The function does not create a turtle"
   ]
  },
  {
   "cell_type": "code",
   "execution_count": null,
   "id": "0dbd308f-7bde-4313-839a-716248b0ca2b",
   "metadata": {},
   "outputs": [],
   "source": [
    "draw_flower_head(greg)"
   ]
  },
  {
   "attachments": {},
   "cell_type": "markdown",
   "id": "3ddc8361-0711-458c-9f0d-e5a2d3392dc7",
   "metadata": {},
   "source": [
    "#### Exercise 4\n",
    "\n",
    "Change your function to allow for the line and the fill colors to be chosen by the user"
   ]
  },
  {
   "cell_type": "code",
   "execution_count": null,
   "id": "2b0d188f-cba5-4151-90fa-ac4de6cb6d6b",
   "metadata": {},
   "outputs": [],
   "source": [
    "def draw_flower_head_with_colors(greg, line_color, fill_color):\n",
    "    # add code here to use the turtle to draw\n",
    "    return"
   ]
  },
  {
   "attachments": {},
   "cell_type": "markdown",
   "id": "2cf6efda-8e20-430e-a83d-9cf3cf32657e",
   "metadata": {},
   "source": [
    "#### Exercise 5\n",
    "\n",
    "Change your function to allow for the starting position to be chosen by the user"
   ]
  },
  {
   "cell_type": "code",
   "execution_count": 17,
   "id": "0f82bc37",
   "metadata": {},
   "outputs": [],
   "source": [
    "def draw_flower_head_with_colors(ttl, line_color, fill_color, start_x, start_y):\n",
    "    # add code here to use the turtle to draw\n",
    "\n",
    "    return"
   ]
  },
  {
   "attachments": {},
   "cell_type": "markdown",
   "id": "e8ea5a7f",
   "metadata": {},
   "source": [
    "#### Using lists and dictionaries to store instructions"
   ]
  },
  {
   "attachments": {},
   "cell_type": "markdown",
   "id": "a6dc71cb",
   "metadata": {},
   "source": [
    "A dictionary is a set of pairs. They can be good for storing info that we want to use in a program"
   ]
  },
  {
   "cell_type": "code",
   "execution_count": 24,
   "id": "65f79aa3",
   "metadata": {},
   "outputs": [],
   "source": [
    "d = {\n",
    "    'first_name': 'Theo',\n",
    "    'last_name': 'McNevins',\n",
    "    'pet_type': 'monkey',\n",
    "    'pet_name': 'Babu'\n",
    "}"
   ]
  },
  {
   "cell_type": "code",
   "execution_count": 26,
   "id": "8b94b2b2",
   "metadata": {},
   "outputs": [
    {
     "name": "stdout",
     "output_type": "stream",
     "text": [
      "Hi. My name is Theo McNevins. I have a monkey called Babu.\n"
     ]
    }
   ],
   "source": [
    "print(f\"Hi. My name is {d['first_name']} {d['last_name']}. I have a {d['pet_type']} called {d['pet_name']}.\")"
   ]
  },
  {
   "attachments": {},
   "cell_type": "markdown",
   "id": "80bde7c3",
   "metadata": {},
   "source": [
    "You can also use lists of dictionaries"
   ]
  },
  {
   "cell_type": "code",
   "execution_count": 27,
   "id": "5a34c653",
   "metadata": {},
   "outputs": [],
   "source": [
    "pet_dict = [\n",
    "    {\n",
    "        'first_name': 'Theo',\n",
    "        'last_name': 'McNevins',\n",
    "        'pet_type': 'monkey',\n",
    "        'pet_name': 'Babu'\n",
    "    },\n",
    "    {\n",
    "        'first_name': 'Ian',\n",
    "        'last_name': 'McNevins',\n",
    "        'pet_type': 'dog',\n",
    "        'pet_name': 'Maisy'\n",
    "    }\n",
    "]"
   ]
  },
  {
   "attachments": {},
   "cell_type": "markdown",
   "id": "0170ed26",
   "metadata": {},
   "source": [
    "Note that you can layout your code like this too. Its a question of what you think makes your code easiest to read.\n",
    "\n",
    "I used to prefer the more condensed layout below but nowadays i like the layout above"
   ]
  },
  {
   "cell_type": "code",
   "execution_count": 33,
   "id": "5bf76f6a",
   "metadata": {},
   "outputs": [],
   "source": [
    "pet_dict = [\n",
    "    {'first_name': 'Theo', 'last_name': 'McNevins', 'pet_type': 'monkey', 'pet_name': 'Babu'},\n",
    "    {'first_name': 'Ian', 'last_name': 'McNevins', 'pet_type': 'dog', 'pet_name': 'Maisy'}\n",
    "]"
   ]
  },
  {
   "cell_type": "code",
   "execution_count": 29,
   "id": "4f32813a",
   "metadata": {},
   "outputs": [
    {
     "name": "stdout",
     "output_type": "stream",
     "text": [
      "Hi. My name is Theo McNevins. I have a monkey called Babu.\n",
      "Hi. My name is Ian McNevins. I have a dog called Maisy.\n"
     ]
    }
   ],
   "source": [
    "for pet_info in pet_dict:\n",
    "    print(f\"Hi. My name is {pet_info['first_name']} {pet_info['last_name']}. I have a {pet_info['pet_type']} called {pet_info['pet_name']}.\")"
   ]
  },
  {
   "attachments": {},
   "cell_type": "markdown",
   "id": "728b6479",
   "metadata": {},
   "source": [
    "Or you could clean up the code like this"
   ]
  },
  {
   "cell_type": "code",
   "execution_count": 30,
   "id": "e9191ed6",
   "metadata": {},
   "outputs": [],
   "source": [
    "def print_pet_info(first_name, last_name, pet_type, pet_name):\n",
    "    print(f\"Hi. My name is {first_name} {last_name}. I have a {pet_type} called {pet_name}.\")"
   ]
  },
  {
   "cell_type": "code",
   "execution_count": 31,
   "id": "2aae5ed3",
   "metadata": {},
   "outputs": [
    {
     "name": "stdout",
     "output_type": "stream",
     "text": [
      "Hi. My name is Theo McNevins. I have a monkey called Babu.\n",
      "Hi. My name is Ian McNevins. I have a dog called Maisy.\n"
     ]
    }
   ],
   "source": [
    "for pet_info in pet_dict:\n",
    "    print_pet_info(pet_info['first_name'], pet_info['last_name'], pet_info['pet_type'], pet_info['pet_name'])"
   ]
  },
  {
   "attachments": {},
   "cell_type": "markdown",
   "id": "a5211dc2",
   "metadata": {},
   "source": [
    "Or even like this. Its often about where you want to hide the complexity of the code to make it more readable"
   ]
  },
  {
   "cell_type": "code",
   "execution_count": 32,
   "id": "59391282",
   "metadata": {},
   "outputs": [
    {
     "name": "stdout",
     "output_type": "stream",
     "text": [
      "Hi. My name is Theo McNevins. I have a monkey called Babu.\n",
      "Hi. My name is Ian McNevins. I have a dog called Maisy.\n"
     ]
    }
   ],
   "source": [
    "def print_pet_info2(pet_info):\n",
    "    print(f\"Hi. My name is {pet_info['first_name']} {pet_info['last_name']}. I have a {pet_info['pet_type']} called {pet_info['pet_name']}.\")\n",
    "\n",
    "for pet_info in pet_dict:\n",
    "    print_pet_info2(pet_info)"
   ]
  },
  {
   "attachments": {},
   "cell_type": "markdown",
   "id": "3a6a8de1",
   "metadata": {},
   "source": [
    "#### Exercise 6\n",
    "\n",
    "Use a list of dictionaries to store the info to draw four flowers.\n",
    "- First one starts at x==200, y==200 with red lines and yellow fill\n",
    "- Second starts at x==-200, y==200 with yellow lines and red fill\n",
    "- Third one starts at x==-200, y==-200 with green lines and yellow fill\n",
    "- Fourth one starts at x==200, y==-200 with red lines and green fill\n",
    "\n",
    "Then rewrite the code in your drawing.py to use a for loop to replace what you did before that repeated the calls to draw_flower_head four times"
   ]
  },
  {
   "attachments": {},
   "cell_type": "markdown",
   "id": "f0cb66b9",
   "metadata": {},
   "source": []
  }
 ],
 "metadata": {
  "kernelspec": {
   "display_name": "Python 3 (ipykernel)",
   "language": "python",
   "name": "python3"
  },
  "language_info": {
   "codemirror_mode": {
    "name": "ipython",
    "version": 3
   },
   "file_extension": ".py",
   "mimetype": "text/x-python",
   "name": "python",
   "nbconvert_exporter": "python",
   "pygments_lexer": "ipython3",
   "version": "3.11.1"
  }
 },
 "nbformat": 4,
 "nbformat_minor": 5
}
