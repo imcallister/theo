{
 "cells": [
  {
   "cell_type": "markdown",
   "id": "668abade-e2b3-48a3-b48f-4c95c528ac7c",
   "metadata": {},
   "source": [
    "## Abstraction"
   ]
  },
  {
   "cell_type": "markdown",
   "id": "dc37acdf-574f-498b-87c3-b01232bcac71",
   "metadata": {},
   "source": [
    "When you use someone else's code you want to know how to use it without necessarily caring how the code works.\n",
    "\n",
    "An example of this is the python module called turtle that lets you draw pictures even though you don't know how all the bits of code work. For the simplest pictures all you need to know is that you can create a *turtle* which can go forwards and backwards and turn itself around by any number of degrees. When it moves it leaves a line."
   ]
  },
  {
   "cell_type": "markdown",
   "id": "a24b76fc-d2f8-4e44-af12-0464fa7241ae",
   "metadata": {},
   "source": [
    "Load the code (module) that someone else wrote"
   ]
  },
  {
   "cell_type": "code",
   "execution_count": 42,
   "id": "85f5aad7-4b57-4422-8662-d73eafaf0711",
   "metadata": {},
   "outputs": [],
   "source": [
    "import turtle"
   ]
  },
  {
   "cell_type": "markdown",
   "id": "42dcfeeb-5208-4eb4-bb5e-865aa246cf9d",
   "metadata": {},
   "source": [
    "Make a *turtle*. This should open a new window that will be your canvas"
   ]
  },
  {
   "cell_type": "code",
   "execution_count": 44,
   "id": "989ff668-c309-456d-98e4-1e24a14ca653",
   "metadata": {},
   "outputs": [],
   "source": [
    "greg = turtle.Turtle()"
   ]
  },
  {
   "cell_type": "markdown",
   "id": "399f2e06-ea76-4759-bb63-6acdbed97551",
   "metadata": {},
   "source": [
    "Experiment moving around and drawing lines"
   ]
  },
  {
   "cell_type": "code",
   "execution_count": 45,
   "id": "09d1200d-bf40-4001-87cb-416438d3e07b",
   "metadata": {},
   "outputs": [],
   "source": [
    "greg.forward(50)"
   ]
  },
  {
   "cell_type": "code",
   "execution_count": 46,
   "id": "49a3b970-32c1-4882-84a6-f7e1dc3a2844",
   "metadata": {},
   "outputs": [],
   "source": [
    "greg.back(100)"
   ]
  },
  {
   "cell_type": "code",
   "execution_count": 47,
   "id": "5888492c-33df-496b-997c-c8286eeb9a90",
   "metadata": {},
   "outputs": [],
   "source": [
    "greg.left(90)"
   ]
  },
  {
   "cell_type": "code",
   "execution_count": 48,
   "id": "871ebe2a-153a-452d-be4a-bbc0d363759e",
   "metadata": {},
   "outputs": [],
   "source": [
    "greg.forward(200)"
   ]
  },
  {
   "cell_type": "markdown",
   "id": "5eb16686-9871-451c-819c-86b26c80fe54",
   "metadata": {},
   "source": [
    "There are many other *properties* of the turtle to give you information about which way it is facing or what its (x,y) coordinates are"
   ]
  },
  {
   "cell_type": "code",
   "execution_count": 49,
   "id": "c31d0ebd-d164-4c3e-8cc5-2469c3bf5475",
   "metadata": {},
   "outputs": [
    {
     "data": {
      "text/plain": [
       "90.0"
      ]
     },
     "execution_count": 49,
     "metadata": {},
     "output_type": "execute_result"
    }
   ],
   "source": [
    "greg.heading()"
   ]
  },
  {
   "cell_type": "code",
   "execution_count": 50,
   "id": "42431768-b7bf-49e7-b023-83f082810d25",
   "metadata": {},
   "outputs": [
    {
     "data": {
      "text/plain": [
       "(-50.00,200.00)"
      ]
     },
     "execution_count": 50,
     "metadata": {},
     "output_type": "execute_result"
    }
   ],
   "source": [
    "greg.position()"
   ]
  },
  {
   "cell_type": "markdown",
   "id": "32061daa-5cde-47f8-bb72-928494af4241",
   "metadata": {},
   "source": [
    "You can tell it to go to a specific point"
   ]
  },
  {
   "cell_type": "code",
   "execution_count": 51,
   "id": "2982c426-7559-45a1-a65e-e1d4e8af9bb1",
   "metadata": {},
   "outputs": [],
   "source": [
    "greg.goto(100,300)"
   ]
  },
  {
   "cell_type": "code",
   "execution_count": 52,
   "id": "c42e5493-b770-4538-aef8-9b8eb4f8c505",
   "metadata": {},
   "outputs": [
    {
     "data": {
      "text/plain": [
       "(100.00,300.00)"
      ]
     },
     "execution_count": 52,
     "metadata": {},
     "output_type": "execute_result"
    }
   ],
   "source": [
    "greg.position()"
   ]
  },
  {
   "cell_type": "markdown",
   "id": "1b199c28-a10f-46ca-9aec-f7f157654c28",
   "metadata": {},
   "source": [
    "To move without drawing, tell it to lift the pen"
   ]
  },
  {
   "cell_type": "code",
   "execution_count": 53,
   "id": "471de915-fa0f-4dac-af5d-2c45fa3fd4a3",
   "metadata": {},
   "outputs": [],
   "source": [
    "greg.penup()"
   ]
  },
  {
   "cell_type": "code",
   "execution_count": 54,
   "id": "c2de0d0a-4766-4c3e-a98d-28caedf4e59b",
   "metadata": {},
   "outputs": [],
   "source": [
    "greg.goto(200,200)"
   ]
  },
  {
   "cell_type": "code",
   "execution_count": 55,
   "id": "618da956-3daf-48fe-bd80-02984bc672eb",
   "metadata": {},
   "outputs": [],
   "source": [
    "greg.pendown()\n",
    "greg.forward(75)"
   ]
  },
  {
   "cell_type": "markdown",
   "id": "c2a5ae5b-bce0-4daa-8a89-021226514027",
   "metadata": {},
   "source": [
    "### Killing the canvas\n",
    "\n",
    "Its a little messy to do.\n",
    "Sometimes computer can get confused which process is controlling the canvas so to close the window first run the following and click on top left red dot to close window"
   ]
  },
  {
   "cell_type": "code",
   "execution_count": 41,
   "id": "2f46d435-fdb2-4794-bc49-8da512a653d5",
   "metadata": {},
   "outputs": [],
   "source": [
    "turtle.Turtle().screen.mainloop()"
   ]
  },
  {
   "cell_type": "markdown",
   "id": "b41360fc-714b-4c07-9fc3-b829d50b0a89",
   "metadata": {},
   "source": [
    "### Exercises -- Drawing shapes\n",
    "\n",
    "Now you know how to use turtle to draw. You don't know anything about the code behind the scenes but thats the point of abstraction"
   ]
  },
  {
   "cell_type": "markdown",
   "id": "5b9f8af2-98bd-4eff-b047-fbe84484f5f6",
   "metadata": {},
   "source": [
    "Clear the screen"
   ]
  },
  {
   "cell_type": "code",
   "execution_count": 61,
   "id": "675a3842-8e1a-49aa-919a-2a057db1586a",
   "metadata": {},
   "outputs": [],
   "source": [
    "greg.screen.clear()"
   ]
  },
  {
   "cell_type": "code",
   "execution_count": 63,
   "id": "2e32d67d-1def-45c2-907d-2abc01ea4e97",
   "metadata": {},
   "outputs": [],
   "source": [
    "greg.forward(200)\n",
    "greg.left(135)\n",
    "greg.forward(200)\n",
    "greg.left(135)\n",
    "greg.forward(200)\n",
    "greg.left(135)\n",
    "greg.forward(200)\n",
    "greg.left(135)\n",
    "greg.forward(200)\n",
    "greg.left(135)\n",
    "greg.forward(200)\n",
    "greg.left(135)\n",
    "greg.forward(200)\n",
    "greg.left(135)\n",
    "greg.forward(200)\n",
    "greg.left(135)\n",
    "\n",
    "greg.hideturtle()"
   ]
  },
  {
   "cell_type": "markdown",
   "id": "a7228d9b-def0-4c1a-b264-1e9a8dbe69ba",
   "metadata": {},
   "source": [
    "#### DRY (Don't Repeat Yourself)\n",
    "\n",
    "An important principle of software design is that you shouldn't keep repeating the same code. The code above is an obvious example"
   ]
  },
  {
   "cell_type": "markdown",
   "id": "c9e824fd-5c7d-43d0-899b-b802dd5751ec",
   "metadata": {},
   "source": [
    "#### Exercise 1\n",
    "\n",
    "Use a \"for-loop\" to rewrite the above and eliminate having the code say the same thing 8 times.\n",
    "\n",
    "Refer to the *building_blocks* notebook for reference on how for-loops work\n",
    "\n",
    "Clear the screen before running your new code"
   ]
  },
  {
   "cell_type": "code",
   "execution_count": null,
   "id": "b2941d41-68ee-4efc-b302-d59b6c798f1d",
   "metadata": {},
   "outputs": [],
   "source": []
  },
  {
   "cell_type": "code",
   "execution_count": null,
   "id": "e26456ca-e692-4908-abc0-0954a4f42ae1",
   "metadata": {},
   "outputs": [],
   "source": []
  },
  {
   "cell_type": "code",
   "execution_count": null,
   "id": "3c6fb3e6-c58b-4361-a38c-d11387523f6c",
   "metadata": {},
   "outputs": [],
   "source": []
  },
  {
   "cell_type": "code",
   "execution_count": null,
   "id": "2e6277bd-6d9f-4c3d-8b74-d11c392d6f16",
   "metadata": {},
   "outputs": [],
   "source": []
  }
 ],
 "metadata": {
  "kernelspec": {
   "display_name": "Python 3 (ipykernel)",
   "language": "python",
   "name": "python3"
  },
  "language_info": {
   "codemirror_mode": {
    "name": "ipython",
    "version": 3
   },
   "file_extension": ".py",
   "mimetype": "text/x-python",
   "name": "python",
   "nbconvert_exporter": "python",
   "pygments_lexer": "ipython3",
   "version": "3.11.1"
  }
 },
 "nbformat": 4,
 "nbformat_minor": 5
}
