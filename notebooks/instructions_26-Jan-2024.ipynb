{
 "cells": [
  {
   "cell_type": "markdown",
   "metadata": {},
   "source": [
    "### Continuing with pong game\n",
    "\n",
    "- Stop paddle moving off edge of board (by comparing x position with the size of the screen)\n",
    "\n",
    "- Make ball move and code structure clean-up (look at how *bouncing.py* works). Note you will want it to be able to move diagonally\n",
    "\n",
    "- Detect ball hitting wall. What do you need to do to make it change direction\n",
    "\n",
    "- Think about detecting when ball hits paddle\n",
    "\n"
   ]
  },
  {
   "cell_type": "markdown",
   "metadata": {},
   "source": []
  }
 ],
 "metadata": {
  "language_info": {
   "name": "python"
  }
 },
 "nbformat": 4,
 "nbformat_minor": 2
}
