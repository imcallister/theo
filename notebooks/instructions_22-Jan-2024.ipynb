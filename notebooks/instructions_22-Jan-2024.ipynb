{
 "cells": [
  {
   "cell_type": "markdown",
   "metadata": {},
   "source": [
    "### Continuing with pong game\n",
    "\n",
    "- DONE.  We need to be able to make a (full screen) pop up game window when the game starts\n",
    "\n",
    "- DONE. We need to make the paddle\n",
    "\n",
    "- DONE Position the paddle at the bottom of the screen\n",
    "\n",
    "- DONE Paddle movement. Capture keydown events and move the paddle a little bit each time\n",
    "\n",
    "- DONE If you have time... start to make the ball (another sprite class)"
   ]
  },
  {
   "cell_type": "markdown",
   "metadata": {},
   "source": []
  }
 ],
 "metadata": {
  "language_info": {
   "name": "python"
  }
 },
 "nbformat": 4,
 "nbformat_minor": 2
}
