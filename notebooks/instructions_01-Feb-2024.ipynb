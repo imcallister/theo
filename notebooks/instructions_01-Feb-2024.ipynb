{
 "cells": [
  {
   "cell_type": "markdown",
   "metadata": {},
   "source": [
    "- Explain to Dan how the bouncing off walls works\n",
    "\n",
    "- Make the ball round and check that bouncing off walls still works\n",
    "\n",
    "- Introduce a score. Display it on screen and add one every time the ball hits the bottom wall. You can look at code for the double-paddle game you found on github to get ideas"
   ]
  },
  {
   "cell_type": "markdown",
   "metadata": {},
   "source": []
  },
  {
   "cell_type": "markdown",
   "metadata": {},
   "source": []
  }
 ],
 "metadata": {
  "language_info": {
   "name": "python"
  }
 },
 "nbformat": 4,
 "nbformat_minor": 2
}
